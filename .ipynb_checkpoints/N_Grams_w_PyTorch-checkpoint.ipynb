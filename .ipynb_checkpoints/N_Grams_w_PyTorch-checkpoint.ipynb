{
 "cells": [
  {
   "cell_type": "code",
   "execution_count": 1,
   "id": "f0a04cf7-7f6e-4e88-b5db-60eac7a680eb",
   "metadata": {},
   "outputs": [],
   "source": [
    "import torch\n",
    "import torch.nn as nn\n",
    "import torchtext\n"
   ]
  },
  {
   "cell_type": "code",
   "execution_count": 2,
   "id": "9611f81c-f3bc-4424-a2e6-29c0bfe04dac",
   "metadata": {},
   "outputs": [],
   "source": [
    "embedding_dim = 3\n",
    "context_size = 2\n",
    "vocab = 4\n",
    "\n",
    "embedding = nn.Embedding(vocab,embedding_dim)\n",
    "linear = nn.Linear(context_size*embedding_dim,2)"
   ]
  },
  {
   "cell_type": "code",
   "execution_count": 4,
   "id": "f0407256-481c-4fed-b1f3-f579f4c4ece9",
   "metadata": {},
   "outputs": [],
   "source": [
    "inputs = torch.tensor([2,3])\n",
    "\n",
    "my_embeddings = embedding(inputs)\n"
   ]
  },
  {
   "cell_type": "code",
   "execution_count": 5,
   "id": "628195a6-a90e-45ba-b1b8-356eccf76850",
   "metadata": {},
   "outputs": [
    {
     "data": {
      "text/plain": [
       "tensor([[-1.2908,  0.1873,  0.6990],\n",
       "        [-0.4541,  0.0991, -0.4244]], grad_fn=<EmbeddingBackward0>)"
      ]
     },
     "execution_count": 5,
     "metadata": {},
     "output_type": "execute_result"
    }
   ],
   "source": [
    "my_embeddings"
   ]
  },
  {
   "cell_type": "code",
   "execution_count": 6,
   "id": "d17a3622-731c-45ca-b7db-4ba2e87c0c7f",
   "metadata": {},
   "outputs": [],
   "source": [
    "my_embeddings_c = torch.reshape(my_embeddings,\n",
    "                                (-1,context_size*embedding_dim))"
   ]
  },
  {
   "cell_type": "code",
   "execution_count": 8,
   "id": "7fff965c-e244-408e-ae70-e78fed435481",
   "metadata": {},
   "outputs": [
    {
     "data": {
      "text/plain": [
       "tensor([[-1.2908,  0.1873,  0.6990, -0.4541,  0.0991, -0.4244]],\n",
       "       grad_fn=<ViewBackward0>)"
      ]
     },
     "execution_count": 8,
     "metadata": {},
     "output_type": "execute_result"
    }
   ],
   "source": [
    "my_embeddings_c"
   ]
  },
  {
   "cell_type": "code",
   "execution_count": null,
   "id": "a08c33bf-7a99-4748-9d1e-ab777cb541c4",
   "metadata": {},
   "outputs": [],
   "source": [
    "torch.reshape("
   ]
  }
 ],
 "metadata": {
  "kernelspec": {
   "display_name": "Python 3 (ipykernel)",
   "language": "python",
   "name": "python3"
  },
  "language_info": {
   "codemirror_mode": {
    "name": "ipython",
    "version": 3
   },
   "file_extension": ".py",
   "mimetype": "text/x-python",
   "name": "python",
   "nbconvert_exporter": "python",
   "pygments_lexer": "ipython3",
   "version": "3.12.7"
  }
 },
 "nbformat": 4,
 "nbformat_minor": 5
}
