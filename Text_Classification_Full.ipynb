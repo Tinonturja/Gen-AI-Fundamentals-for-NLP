{
 "cells": [
  {
   "cell_type": "code",
   "execution_count": 1,
   "id": "5298969e-1c55-434d-ac64-b3b17d132c0f",
   "metadata": {},
   "outputs": [],
   "source": [
    "from torchtext.datasets import AG_NEWS\n"
   ]
  },
  {
   "cell_type": "markdown",
   "id": "25a0d282-32a0-41e7-9ea5-c26175c67bb3",
   "metadata": {},
   "source": [
    "## Token and Vocab"
   ]
  },
  {
   "cell_type": "code",
   "execution_count": 2,
   "id": "81dc6ff8-9a8a-466c-801a-ed8035431566",
   "metadata": {},
   "outputs": [
    {
     "name": "stdout",
     "output_type": "stream",
     "text": [
      "Length of the vocabulary: 95811\n",
      "Some of the tokenized words: ['zyprexa', 'zwiki', 'zurab', 'zuhua', 'zubrin', 'zovko', 'zotinca', 'zos', 'zoology', 'zoner']\n"
     ]
    }
   ],
   "source": [
    "\n",
    "# Have to make the dataset iterable\n",
    "train_iter = iter(AG_NEWS(split = 'train'))\n",
    "\n",
    "# Set the tokenizer and the vocab\n",
    "from torchtext.data.utils import get_tokenizer\n",
    "tokenizer = get_tokenizer('basic_english')\n",
    "\n",
    "# set the vocab\n",
    "from torchtext.vocab import build_vocab_from_iterator\n",
    "vocab = build_vocab_from_iterator([tokenizer(sample) for _,sample in train_iter],specials = [\"<unk>\"])\n",
    "vocab.set_default_index(vocab[\"<unk>\"])\n",
    "\n",
    "print(f\"Length of the vocabulary: {len(vocab)}\")\n",
    "print(f\"Some of the tokenized words: {list(vocab.get_stoi().keys())[:10]}\")"
   ]
  },
  {
   "cell_type": "markdown",
   "id": "c859bb37-c6df-4307-a416-d9fb390ba71e",
   "metadata": {},
   "source": [
    "## Create the dataset\n"
   ]
  },
  {
   "cell_type": "code",
   "execution_count": 3,
   "id": "6e7e33af-e66d-4fdc-b524-300f3ee5e0aa",
   "metadata": {},
   "outputs": [],
   "source": [
    "train_iter, test_iter = AG_NEWS()\n",
    "\n",
    "# Creating train and validation iterable dataset\n",
    "train_iter,test_iter = AG_NEWS()\n",
    "\n",
    "# Converting the iterable dataset into map style dataset\n",
    "from torchtext.data.functional import to_map_style_dataset\n",
    "train_dataset = to_map_style_dataset(train_iter)\n",
    "test_dataset = to_map_style_dataset(test_iter)\n",
    "\n",
    "# Splitting the train data into train and validation dataset, Where 95% contains train data and rest of them contain validation data\n",
    "train_size = int(len(train_dataset) * 0.95)\n",
    "\n",
    "# for randomly splitting we use the function random_split\n",
    "from torch.utils.data.dataset import random_split\n",
    "train_data,validation_data = random_split(train_dataset,[train_size,len(train_dataset) - train_size])"
   ]
  },
  {
   "cell_type": "code",
   "execution_count": 4,
   "id": "b3d63046-bfde-47f1-97f1-cdc5d77c21fe",
   "metadata": {},
   "outputs": [
    {
     "data": {
      "text/plain": [
       "(114000, 6000)"
      ]
     },
     "execution_count": 4,
     "metadata": {},
     "output_type": "execute_result"
    }
   ],
   "source": [
    "len(train_data),len(validation_data)"
   ]
  },
  {
   "cell_type": "code",
   "execution_count": 5,
   "id": "481157e9-0bad-4c1d-b587-765c3f0c50a3",
   "metadata": {},
   "outputs": [],
   "source": [
    "label,text = next(iter(train_data))"
   ]
  },
  {
   "cell_type": "code",
   "execution_count": 6,
   "id": "15c89741-ac0d-4fb7-90db-ad16a5282322",
   "metadata": {},
   "outputs": [
    {
     "data": {
      "text/plain": [
       "(2,\n",
       " 'Petrova upends Henin-Hardenne Justine Henin-Hardenne looked up at the scoreboard that showed her opponent, Russian Nadia Petrova, leading by a set and a break. Then ')"
      ]
     },
     "execution_count": 6,
     "metadata": {},
     "output_type": "execute_result"
    }
   ],
   "source": [
    "label,text"
   ]
  },
  {
   "cell_type": "code",
   "execution_count": 25,
   "id": "709a4550-522d-4981-a430-aaa45c932e7f",
   "metadata": {},
   "outputs": [],
   "source": [
    "# AG_NEWS label\n",
    "ag_news_label = {1:'World',2:'Sports',3:'Business',4:'Sci/Tech'}"
   ]
  },
  {
   "cell_type": "markdown",
   "id": "1d9fea74-5dbe-4d89-b437-356d6a04feb1",
   "metadata": {},
   "source": [
    "## Create DataLoader"
   ]
  },
  {
   "cell_type": "code",
   "execution_count": 7,
   "id": "b37dfbad-38f5-419c-8a79-8e1719648e42",
   "metadata": {},
   "outputs": [],
   "source": [
    "# text_pipeline --> take the data and convert it into token and indices\n",
    "def text_pipeline(x):\n",
    "    return vocab(tokenizer(x))\n",
    "\n",
    "\n",
    "\n",
    "# label_pipeline --> create the pipeline qualified for torch input\n",
    "def label_pipeline(x):\n",
    "    return int(x)-1"
   ]
  },
  {
   "cell_type": "markdown",
   "id": "1278906a-52cb-4148-876f-d1d6740bbd26",
   "metadata": {},
   "source": [
    "### Collate function"
   ]
  },
  {
   "cell_type": "code",
   "execution_count": 42,
   "id": "9554f159-8f3b-4ec3-8152-b710dd0e86c7",
   "metadata": {},
   "outputs": [
    {
     "data": {
      "text/plain": [
       "device(type='cpu')"
      ]
     },
     "execution_count": 42,
     "metadata": {},
     "output_type": "execute_result"
    }
   ],
   "source": [
    "## Device agnostic code\n",
    "import torch\n",
    "device = torch.device(\"cpu\")\n",
    "device"
   ]
  },
  {
   "cell_type": "code",
   "execution_count": 43,
   "id": "9faace9e-9aba-49c8-8774-a758cb7f194f",
   "metadata": {},
   "outputs": [],
   "source": [
    "def collate_batch(batch):\n",
    "\n",
    "    label_list,text_list,offsets_list = [],[],[0]\n",
    "\n",
    "    for label,text in batch:\n",
    "        label_list.append(label_pipeline(label))\n",
    "        processed_text = torch.tensor(text_pipeline(text),dtype = torch.int64)\n",
    "        text_list.append(processed_text) # list of token_indices\n",
    "        offsets_list.append(processed_text.size(0))\n",
    "\n",
    "\n",
    "    label_list = torch.tensor(label_list,dtype = torch.int64)\n",
    "    offsets = torch.tensor(offsets_list[:-1]).cumsum(dim = 0)\n",
    "    text_list = torch.cat(text_list)\n",
    "\n",
    "\n",
    "    return label_list.to(device),text_list.to(device),offsets.to(device)\n",
    "        "
   ]
  },
  {
   "cell_type": "code",
   "execution_count": 44,
   "id": "dd542bc3-45c7-42e2-8fd6-a5fef46d0be6",
   "metadata": {},
   "outputs": [],
   "source": [
    "## create train/validation/test dataloader\n",
    "\n",
    "BATCH_SIZE = 64\n",
    "\n",
    "from torch.utils.data import DataLoader\n",
    "train_dataloader = DataLoader(dataset = train_data,\n",
    "                              batch_size=BATCH_SIZE,\n",
    "                              shuffle = True,\n",
    "                              collate_fn=collate_batch)\n",
    "\n",
    "validation_dataloader = DataLoader(dataset = validation_data,\n",
    "                              batch_size=BATCH_SIZE,shuffle = True,\n",
    "                              collate_fn=collate_batch)\n",
    "test_dataloader = DataLoader(dataset = test_dataset,\n",
    "                              batch_size=BATCH_SIZE,shuffle = False,\n",
    "                              collate_fn=collate_batch)\n"
   ]
  },
  {
   "cell_type": "code",
   "execution_count": 45,
   "id": "68848661-0bf4-4321-b8f5-0cc5bd9c205c",
   "metadata": {
    "scrolled": true
   },
   "outputs": [
    {
     "data": {
      "text/plain": [
       "(tensor([2, 3, 2, 1, 2, 3, 0, 3, 1, 1, 3, 2, 0, 0, 1, 0, 1, 3, 3, 3, 3, 2, 0, 3,\n",
       "         1, 1, 0, 2, 3, 1, 0, 0, 2, 0, 2, 0, 2, 0, 1, 3, 2, 1, 1, 0, 2, 0, 3, 2,\n",
       "         2, 0, 2, 3, 0, 2, 3, 3, 1, 1, 0, 3, 2, 0, 3, 0]),\n",
       " tensor([ 47,  36, 837,  ...,  10,  60,   1]),\n",
       " tensor([   0,   44,   84,  127,  197,  247,  289,  339,  374,  416,  463,  483,\n",
       "          529,  575,  617,  672,  718,  754,  791,  839,  887,  924,  961,  998,\n",
       "         1039, 1074, 1102, 1139, 1184, 1239, 1289, 1338, 1368, 1423, 1465, 1521,\n",
       "         1570, 1613, 1642, 1671, 1783, 1829, 1872, 1918, 1942, 1970, 2009, 2029,\n",
       "         2083, 2135, 2193, 2247, 2287, 2343, 2418, 2457, 2482, 2518, 2566, 2607,\n",
       "         2645, 2677, 2722, 2768]))"
      ]
     },
     "execution_count": 45,
     "metadata": {},
     "output_type": "execute_result"
    }
   ],
   "source": [
    "label,text,offsets =  next(iter(validation_dataloader))\n",
    "label,text,offsets"
   ]
  },
  {
   "cell_type": "code",
   "execution_count": 46,
   "id": "068ece79-7987-4670-8f79-205367554b96",
   "metadata": {},
   "outputs": [
    {
     "data": {
      "text/plain": [
       "64"
      ]
     },
     "execution_count": 46,
     "metadata": {},
     "output_type": "execute_result"
    }
   ],
   "source": [
    "label.shape[0]"
   ]
  },
  {
   "cell_type": "markdown",
   "id": "7138bcf2-2b10-4e88-81ab-a5c42345a31a",
   "metadata": {},
   "source": [
    "## Create the MODEL"
   ]
  },
  {
   "cell_type": "code",
   "execution_count": 47,
   "id": "6e1ccf28-72e8-43d1-bd07-7bfd2c06058b",
   "metadata": {},
   "outputs": [],
   "source": [
    "import torch.nn as nn\n",
    "\n",
    "class TextClassificationModel(nn.Module):\n",
    "\n",
    "    def __init__(self,vocab_size,embedded_dim,num_class):\n",
    "\n",
    "        super().__init__()\n",
    "\n",
    "        self.embedding = nn.EmbeddingBag(vocab_size, embedded_dim,sparse = False)\n",
    "        self.fc = nn.Linear(embedded_dim, num_class)\n",
    "        self.init_weight()\n",
    "\n",
    "\n",
    "    def init_weight(self):\n",
    "        \"\"\"This custom initialization helps:\n",
    "        * Ensure stable and consistent training\n",
    "        * Avoid issues like vanishing/exploding gradients\n",
    "        * Improve training speed and convergence\n",
    "        \"\"\"\n",
    "        init_range = 0.5\n",
    "        self.embedding.weight.data.uniform_(-init_range,init_range) # Initializes the embedding weights uniformly --> each word in vocabulary gets a vector of embedded_dim dimensions with values in [-0.5,0.5]\n",
    "        self.fc.weight.data.uniform_(-init_range,init_range)\n",
    "        self.fc.bias.data.zero_()\n",
    "\n",
    "\n",
    "    def forward(self,text,offsets):\n",
    "        embedded_layer = self.embedding(text,offsets)\n",
    "        return self.fc(embedded_layer)"
   ]
  },
  {
   "cell_type": "code",
   "execution_count": 48,
   "id": "ef113687-dab7-4446-95d2-25b8ad961a67",
   "metadata": {},
   "outputs": [
    {
     "name": "stdout",
     "output_type": "stream",
     "text": [
      "Vocab Size: 95811\n",
      "Class number: 4\n"
     ]
    }
   ],
   "source": [
    "# Set up the parameters\n",
    "emb_dim =64\n",
    "vocab_size = len(vocab)\n",
    "print(f\"Vocab Size: {vocab_size}\")\n",
    "class_num = len(set([label for label,_ in train_data]))\n",
    "print(f\"Class number: {class_num}\")\n"
   ]
  },
  {
   "cell_type": "code",
   "execution_count": 49,
   "id": "82ec47c3-b9f2-4d33-a6c3-39f4ca9c5bd4",
   "metadata": {},
   "outputs": [
    {
     "data": {
      "text/plain": [
       "TextClassificationModel(\n",
       "  (embedding): EmbeddingBag(95811, 64, mode='mean')\n",
       "  (fc): Linear(in_features=64, out_features=4, bias=True)\n",
       ")"
      ]
     },
     "execution_count": 49,
     "metadata": {},
     "output_type": "execute_result"
    }
   ],
   "source": [
    "# Initializes the model\n",
    "model_0 = TextClassificationModel(vocab_size = vocab_size,\n",
    "                                  embedded_dim=emb_dim,\n",
    "                                  num_class=class_num)\n",
    "\n",
    "model_0"
   ]
  },
  {
   "cell_type": "code",
   "execution_count": 57,
   "id": "bc44fca9-60db-472b-ac42-502ef987667d",
   "metadata": {},
   "outputs": [
    {
     "data": {
      "text/plain": [
       "(tensor([1, 0, 1, 2, 1, 3, 3, 1, 1, 2, 1, 1, 1, 2, 1, 0, 2, 0, 0, 0, 2, 2, 1, 3,\n",
       "         1, 3, 2, 2, 1, 2, 0, 0, 0, 1, 3, 0, 3, 1, 1, 3, 1, 3, 2, 2, 2, 0, 1, 1,\n",
       "         1, 3, 3, 1, 1, 1, 3, 1, 1, 1, 1, 0, 0, 2, 3, 0]),\n",
       " tensor([  5, 465,   4,  ...,  26,  55,   1]),\n",
       " tensor([   0,   43,   77,  116,  162,  205,  246,  294,  343,  387,  433,  479,\n",
       "          506,  545,  594,  640,  706,  748,  812,  854,  912,  949,  977, 1015,\n",
       "         1047, 1105, 1153, 1199, 1233, 1268, 1313, 1365, 1408, 1436, 1466, 1505,\n",
       "         1537, 1587, 1615, 1660, 1695, 1744, 1783, 1822, 1859, 1903, 1950, 1983,\n",
       "         2024, 2071, 2101, 2149, 2187, 2220, 2248, 2303, 2350, 2393, 2434, 2469,\n",
       "         2525, 2565, 2600, 2655]))"
      ]
     },
     "execution_count": 57,
     "metadata": {},
     "output_type": "execute_result"
    }
   ],
   "source": [
    "label,text,offsets  = next(iter(train_dataloader))\n",
    "label,text,offsets # Represents the value of one batch (64 individual samples)"
   ]
  },
  {
   "cell_type": "code",
   "execution_count": 61,
   "id": "eb904ff8-a595-400b-b443-fcfd6baca96a",
   "metadata": {},
   "outputs": [
    {
     "data": {
      "text/plain": [
       "torch.Size([64])"
      ]
     },
     "execution_count": 61,
     "metadata": {},
     "output_type": "execute_result"
    }
   ],
   "source": [
    "label.shape"
   ]
  },
  {
   "cell_type": "code",
   "execution_count": 54,
   "id": "36d9c0e5-bfb6-4917-9613-c9007afd2e6a",
   "metadata": {},
   "outputs": [
    {
     "data": {
      "text/plain": [
       "tensor([[ 8.3766e-03,  1.1732e-01,  9.5169e-02, -1.3305e-01],\n",
       "        [-4.1883e-02,  2.4124e-02,  5.2575e-02,  7.1180e-02],\n",
       "        [ 4.6956e-02,  1.0812e-01, -3.8488e-02, -1.5682e-01],\n",
       "        [-1.1162e-01,  1.0617e-01,  3.4772e-01, -1.0258e-01],\n",
       "        [-1.0586e-02,  9.1206e-03, -1.8507e-02, -1.1204e-01],\n",
       "        [-1.9842e-02, -1.5962e-02, -5.2642e-02,  1.4213e-01],\n",
       "        [-3.4291e-02, -8.3170e-02, -2.2903e-01, -1.0014e-02],\n",
       "        [ 3.0971e-02,  1.2240e-01,  7.8705e-02,  4.3531e-02],\n",
       "        [ 6.7281e-02,  6.0617e-02,  2.3847e-01,  1.1230e-01],\n",
       "        [-9.2368e-02,  1.4191e-01,  7.9472e-02, -1.2929e-01],\n",
       "        [-1.2483e-01,  1.4743e-01,  6.9083e-02,  3.5202e-02],\n",
       "        [ 3.4676e-01, -1.0340e-01,  7.7574e-02,  2.1624e-02],\n",
       "        [-3.9154e-02,  6.2121e-02,  1.6626e-01,  1.1333e-02],\n",
       "        [-9.1149e-02,  1.8298e-01, -2.0950e-01, -2.0465e-01],\n",
       "        [-1.4882e-01,  3.3232e-02, -4.8619e-03,  1.3417e-01],\n",
       "        [ 1.8870e-01,  5.8598e-02,  5.4150e-02, -1.5824e-01],\n",
       "        [-2.4564e-02,  2.1693e-02, -1.4067e-02,  5.2753e-02],\n",
       "        [-2.8935e-01,  3.1594e-01, -1.1428e-01, -4.2964e-01],\n",
       "        [ 1.4444e-01, -2.2428e-01, -1.0761e-01, -7.9851e-02],\n",
       "        [-1.3081e-01,  2.4477e-02, -2.3527e-01, -1.3527e-01],\n",
       "        [-9.8584e-02, -1.9023e-01, -9.8779e-02, -3.1219e-02],\n",
       "        [-1.5332e-01,  5.5044e-03,  1.0841e-01,  1.6619e-01],\n",
       "        [ 5.2340e-02, -2.7572e-02, -5.7925e-02,  5.3657e-02],\n",
       "        [ 4.6517e-02, -6.1554e-02,  1.4620e-01,  7.1378e-02],\n",
       "        [-1.8250e-01, -7.4137e-03,  1.0303e-01,  1.1731e-02],\n",
       "        [ 4.3449e-02, -6.0203e-02,  2.3946e-01, -8.8465e-02],\n",
       "        [ 8.8451e-02, -1.8075e-01, -1.3930e-02, -9.0180e-02],\n",
       "        [-4.7479e-02,  6.0451e-02, -3.6793e-02, -7.0320e-02],\n",
       "        [ 4.1730e-02, -6.5777e-02, -2.8957e-01,  6.3962e-02],\n",
       "        [-1.2195e-01,  2.4293e-01,  9.9475e-02,  3.2301e-02],\n",
       "        [-1.1066e-01,  1.4716e-01,  1.0768e-01,  1.4429e-01],\n",
       "        [-6.1772e-02, -4.1349e-03, -1.9058e-02, -1.0843e-02],\n",
       "        [-1.0587e-01,  1.6904e-01,  4.9560e-02,  9.1256e-02],\n",
       "        [-1.7991e-01,  3.6162e-02,  4.9566e-02, -1.6636e-01],\n",
       "        [ 7.3709e-02, -1.7636e-01, -3.5064e-01, -3.5406e-02],\n",
       "        [-9.2099e-02,  1.9858e-01,  3.9648e-02,  2.0057e-01],\n",
       "        [ 1.7259e-01,  5.4430e-02, -1.5965e-01, -2.2225e-01],\n",
       "        [ 6.0047e-02,  8.9832e-02,  4.5599e-03, -2.2600e-01],\n",
       "        [-5.2212e-02, -6.7208e-02,  1.7003e-01,  3.5490e-02],\n",
       "        [-5.0249e-02,  2.1739e-02, -9.1193e-02,  4.0304e-02],\n",
       "        [-7.3057e-02,  7.6408e-02, -2.5097e-02, -3.0448e-02],\n",
       "        [ 1.2159e-01,  1.8593e-01, -1.5231e-02, -3.2841e-02],\n",
       "        [-3.8923e-02,  1.0351e-01,  1.6513e-01, -7.2663e-02],\n",
       "        [-4.2224e-02, -8.2161e-02,  1.3841e-01,  4.7589e-02],\n",
       "        [ 8.4351e-02,  5.6833e-02,  2.5365e-01, -6.8427e-02],\n",
       "        [-2.1765e-01,  1.5597e-01,  1.1572e-02, -2.4028e-01],\n",
       "        [ 1.5208e-02,  4.0742e-02,  1.5286e-01, -6.5645e-02],\n",
       "        [-1.1133e-02, -8.4020e-02,  1.2285e-01,  5.2211e-02],\n",
       "        [ 8.4355e-02,  7.2582e-02,  2.9396e-02, -1.7227e-02],\n",
       "        [-8.9042e-02, -8.7762e-02,  1.5877e-01, -2.0678e-04],\n",
       "        [-3.4454e-01,  9.3154e-02, -4.6401e-02, -5.3862e-02],\n",
       "        [ 3.9074e-02, -4.4479e-02,  6.3576e-02,  1.6021e-01],\n",
       "        [-1.1880e-01,  8.9427e-02,  2.0642e-02, -3.3880e-02],\n",
       "        [ 3.2916e-02, -1.1069e-01, -7.2350e-02,  1.5544e-01],\n",
       "        [ 7.4832e-02,  2.9199e-01,  5.8004e-02, -1.7226e-01],\n",
       "        [ 8.9310e-02, -1.5951e-01,  1.4566e-01,  3.1398e-02],\n",
       "        [ 2.3735e-01, -2.2680e-01,  5.1786e-01,  1.7730e-01],\n",
       "        [-1.0858e-01,  9.0213e-02,  5.7757e-02, -9.9395e-03],\n",
       "        [ 8.7991e-02, -1.9565e-01,  2.7977e-01, -1.5754e-02],\n",
       "        [ 1.8415e-02,  1.7933e-01,  6.0849e-04, -1.4727e-01],\n",
       "        [-4.8262e-02, -3.7355e-02,  1.2209e-02,  4.6769e-03],\n",
       "        [-6.0611e-02,  2.2657e-01, -1.1716e-02, -2.8881e-01],\n",
       "        [-7.1995e-02,  1.9406e-01, -1.5198e-02,  1.8138e-02],\n",
       "        [-1.5214e-03, -9.8441e-02,  8.0282e-02, -7.9071e-02]],\n",
       "       grad_fn=<AddmmBackward0>)"
      ]
     },
     "execution_count": 54,
     "metadata": {},
     "output_type": "execute_result"
    }
   ],
   "source": [
    "predict = model_0(text, offsets)\n",
    "predict"
   ]
  },
  {
   "cell_type": "code",
   "execution_count": 56,
   "id": "03717732-72d4-454f-95ee-20197c3e9bbe",
   "metadata": {},
   "outputs": [
    {
     "data": {
      "text/plain": [
       "(tensor([1, 3, 1, 2, 1, 3, 3, 1, 2, 1, 1, 0, 2, 1, 3, 0, 3, 1, 0, 1, 3, 3, 3, 2,\n",
       "         2, 2, 0, 1, 3, 1, 1, 1, 1, 2, 0, 3, 0, 1, 2, 3, 1, 1, 2, 2, 2, 1, 2, 2,\n",
       "         0, 2, 1, 3, 1, 3, 1, 2, 2, 1, 2, 1, 2, 1, 1, 2]),\n",
       " torch.Size([64]))"
      ]
     },
     "execution_count": 56,
     "metadata": {},
     "output_type": "execute_result"
    }
   ],
   "source": [
    "label = torch.argmax(predict,dim = 1)\n",
    "label,label.shape"
   ]
  },
  {
   "cell_type": "markdown",
   "id": "e70954bf-9105-4d02-a046-9f6055298fbf",
   "metadata": {},
   "source": [
    "## Accuracy Function"
   ]
  },
  {
   "cell_type": "code",
   "execution_count": 66,
   "id": "8e5c650c-5d6a-4bd6-8639-c050aaea8674",
   "metadata": {},
   "outputs": [],
   "source": [
    "def accuracy(dataloader,model):\n",
    "    total_acc, sample_size = 0,0\n",
    "\n",
    "    for idx, (label,text,offsets) in enumerate(dataloader):\n",
    "        model.eval()\n",
    "        with torch.inference_mode():\n",
    "            pred_label = torch.argmax(model(text,offsets),dim = 1)\n",
    "            acc = (pred_label==label).sum().item() # calculates the accuracy of a single batch\n",
    "            total_acc += acc # accumulates the accuracy across all the batch\n",
    "            sample_size +=label.size(0)\n",
    "\n",
    "    accuracy = total_acc/sample_size\n",
    "\n",
    "    return accuracy\n",
    "            "
   ]
  },
  {
   "cell_type": "code",
   "execution_count": 67,
   "id": "e060f35d-f7bb-4f1a-98cf-0fe8e9d5bb5e",
   "metadata": {},
   "outputs": [
    {
     "data": {
      "text/plain": [
       "0.22986842105263158"
      ]
     },
     "execution_count": 67,
     "metadata": {},
     "output_type": "execute_result"
    }
   ],
   "source": [
    "prediction = accuracy(test_dataloader,model_0)\n",
    "prediction"
   ]
  },
  {
   "cell_type": "markdown",
   "id": "77cf5e0a-fae4-4903-a650-0fc75cf46c09",
   "metadata": {},
   "source": [
    "## Set Learning_Rate, Loss_Function and Schedule_Rate"
   ]
  },
  {
   "cell_type": "code",
   "execution_count": 68,
   "id": "d882860a-f655-43e7-a477-ccc628607d3f",
   "metadata": {},
   "outputs": [],
   "source": [
    "LR = 0.1\n",
    "loss_fn = torch.nn.CrossEntropyLoss()\n",
    "\n",
    "optimizer = torch.optim.SGD(model_0.parameters(),\n",
    "                            lr = LR)\n",
    "\n",
    "scheduler = torch.optim.lr_scheduler.StepLR(optimizer,\n",
    "                                            step_size=1.0,\n",
    "                                            gamma = 0.1)\n"
   ]
  },
  {
   "cell_type": "markdown",
   "id": "f3df43c4-65f0-447c-a9e2-f52034037b3a",
   "metadata": {},
   "source": [
    "## Training Loop"
   ]
  },
  {
   "cell_type": "code",
   "execution_count": 88,
   "id": "664733cb-9f60-48f9-9b86-b485fd5232b4",
   "metadata": {},
   "outputs": [],
   "source": [
    "def train_loop(model:torch.nn.Module,\n",
    "               dataloader: torch.utils.data.DataLoader,\n",
    "               optimizer: torch.optim.Optimizer,\n",
    "               loss_fn: torch.nn.Module):\n",
    "\n",
    "    model.train()\n",
    "    train_loss = 0\n",
    "    \n",
    "\n",
    "    for idx, (label,text,offsets) in enumerate(dataloader):\n",
    "\n",
    "        # set the gradient zero\n",
    "        optimizer.zero_grad()\n",
    "\n",
    "        # Forward Pass\n",
    "        y_logit = model(text,offsets)\n",
    "\n",
    "        # loss calculation\n",
    "        loss = loss_fn(y_logit,label) # loss in one batch\n",
    "        train_loss +=loss.item() # accumulate loss through all batches\n",
    "\n",
    "        # backward\n",
    "        loss.backward()\n",
    "\n",
    "        # use for gradient clipping - a technique that prevents exploding gradients\n",
    "        torch.nn.utils.clip_grad_norm_(model.parameters(),0.1)\n",
    "\n",
    "        # optimizer step\n",
    "        optimizer.step()\n",
    "\n",
    "\n",
    "    train_loss = train_loss/len(dataloader) # calculates train loss through the batch\n",
    "    \n",
    "    \n",
    "    training_accuracy = accuracy(dataloader = train_dataloader,\n",
    "                                   model = model)\n",
    "\n",
    "\n",
    "    print(f\"Training Loss: {train_loss} | Accuracy: {training_accuracy}\")\n",
    "    return train_loss,training_accuracy"
   ]
  },
  {
   "cell_type": "markdown",
   "id": "e39beb0d-7f4c-4281-9ea6-979bca2e0614",
   "metadata": {},
   "source": [
    "## Testing Loop"
   ]
  },
  {
   "cell_type": "code",
   "execution_count": 89,
   "id": "dd72ff32-8799-4c79-9371-2f1320786517",
   "metadata": {},
   "outputs": [],
   "source": [
    "def test_loop(model:torch.nn.Module,\n",
    "               dataloader: torch.utils.data.DataLoader,\n",
    "               loss_fn: torch.nn.Module):\n",
    "\n",
    "    model.eval()\n",
    "    test_loss = 0\n",
    "\n",
    "    with torch.inference_mode():\n",
    "    \n",
    "        for idx, (label,text,offsets) in enumerate(dataloader):\n",
    "    \n",
    "            # Forward Pass\n",
    "            y_logit = model(text,offsets)\n",
    "    \n",
    "            # loss calculation\n",
    "            loss = loss_fn(y_logit,label) # loss in one batch\n",
    "            test_loss +=loss.item() # accumulate loss through all batches\n",
    "\n",
    "\n",
    "\n",
    "    test_loss = test_loss/len(dataloader) # calculates train loss through the batch\n",
    "    \n",
    "    testing_accuracy = accuracy(dataloader = test_dataloader,\n",
    "                                   model = model)\n",
    "\n",
    "    \n",
    "\n",
    "    print(f\"Testing Loss: {test_loss} | Accuracy: {testing_accuracy}\")\n",
    "    return test_loss,testing_accuracy"
   ]
  },
  {
   "cell_type": "markdown",
   "id": "8f0c68bb-ba64-47e2-9cb7-0dcfb15e706c",
   "metadata": {},
   "source": [
    "## Train"
   ]
  },
  {
   "cell_type": "code",
   "execution_count": 90,
   "id": "8ebc5712-c631-4bb6-aba6-4d1c08b8a4a1",
   "metadata": {},
   "outputs": [],
   "source": [
    "def train(model:torch.nn.Module,\n",
    "          train_dataloader,\n",
    "          test_dataloader,\n",
    "          optimizer,\n",
    "          loss_fn,\n",
    "          epochs):\n",
    "\n",
    "    results = {\n",
    "        'train_loss': [],\n",
    "        'train_accuracy':[],\n",
    "        'test_loss': [],\n",
    "        'test_accuracy':[],\n",
    "    }\n",
    "\n",
    "    for epoch in range(epochs):\n",
    "        train_loss, train_accuracy = train_loop(model = model,\n",
    "                                                      dataloader = train_dataloader,\n",
    "                                                      optimizer = optimizer,\n",
    "                                                      loss_fn = loss_fn)\n",
    "\n",
    "        test_loss, test_accuracy = test_loop(model = model,\n",
    "                                                   dataloader = test_dataloader,\n",
    "                                                   loss_fn = loss_fn)\n",
    "\n",
    "        results['train_loss'].append(train_loss)\n",
    "        results['train_accuracy'].append(train_accuracy)\n",
    "        results['test_loss'].append(test_loss)\n",
    "        results['test_accuracy'].append(test_accuracy)\n",
    "\n",
    "    return results\n",
    "          "
   ]
  },
  {
   "cell_type": "code",
   "execution_count": 91,
   "id": "f27162c4-2274-4291-89cf-3c348498c1d5",
   "metadata": {},
   "outputs": [
    {
     "name": "stdout",
     "output_type": "stream",
     "text": [
      "Training Loss: 1.3505393092078393 | Accuracy: 0.47725438596491226\n",
      "Testing Loss: 1.3017398790151131 | Accuracy: 0.4663157894736842\n",
      "Training Loss: 1.23714183724154 | Accuracy: 0.5686491228070175\n",
      "Testing Loss: 1.174054321120767 | Accuracy: 0.5643421052631579\n",
      "Training Loss: 1.0989712872756718 | Accuracy: 0.638859649122807\n",
      "Testing Loss: 1.032314575019003 | Accuracy: 0.6385526315789474\n",
      "Training Loss: 0.9602101005354581 | Accuracy: 0.6959561403508772\n",
      "Testing Loss: 0.9022504672282884 | Accuracy: 0.6892105263157895\n",
      "Training Loss: 0.841873279458077 | Accuracy: 0.735859649122807\n",
      "Testing Loss: 0.7985966791625784 | Accuracy: 0.7310526315789474\n",
      "Training Loss: 0.7485058502316073 | Accuracy: 0.7663157894736842\n",
      "Testing Loss: 0.7187908447089315 | Accuracy: 0.7580263157894737\n",
      "Training Loss: 0.6767065093740737 | Accuracy: 0.7868333333333334\n",
      "Testing Loss: 0.658739553780115 | Accuracy: 0.7786842105263158\n",
      "Training Loss: 0.6216380020852308 | Accuracy: 0.8038684210526316\n",
      "Testing Loss: 0.6133325092431878 | Accuracy: 0.7943421052631578\n",
      "Training Loss: 0.57891032251913 | Accuracy: 0.8167543859649122\n",
      "Testing Loss: 0.5773018836474219 | Accuracy: 0.8065789473684211\n",
      "Training Loss: 0.5452174004982617 | Accuracy: 0.8265526315789473\n",
      "Testing Loss: 0.5490858454664215 | Accuracy: 0.8160526315789474\n"
     ]
    }
   ],
   "source": [
    "model_0 = TextClassificationModel(vocab_size = vocab_size,\n",
    "                                  embedded_dim=emb_dim,\n",
    "                                  num_class=class_num)\n",
    "\n",
    "\n",
    "\n",
    "\n",
    "LR = 0.1\n",
    "loss_fn = torch.nn.CrossEntropyLoss()\n",
    "\n",
    "optimizer = torch.optim.SGD(model_0.parameters(),\n",
    "                            lr = LR)\n",
    "\n",
    "scheduler = torch.optim.lr_scheduler.StepLR(optimizer,\n",
    "                                            step_size=1.0,\n",
    "                                            gamma = 0.1)\n",
    "\n",
    "training = train(model = model_0,\n",
    "                 train_dataloader=train_dataloader,\n",
    "                 test_dataloader = test_dataloader,\n",
    "                 optimizer = optimizer,\n",
    "                 loss_fn = loss_fn,\n",
    "                 epochs=10)"
   ]
  },
  {
   "cell_type": "code",
   "execution_count": 93,
   "id": "3cef3ac8-d53a-49b7-9dc1-5b91b6206f1a",
   "metadata": {},
   "outputs": [],
   "source": [
    "import pandas as pd"
   ]
  },
  {
   "cell_type": "code",
   "execution_count": 95,
   "id": "b9590c23-3b3f-4d54-aec3-372b5224a48e",
   "metadata": {},
   "outputs": [
    {
     "data": {
      "text/html": [
       "<div>\n",
       "<style scoped>\n",
       "    .dataframe tbody tr th:only-of-type {\n",
       "        vertical-align: middle;\n",
       "    }\n",
       "\n",
       "    .dataframe tbody tr th {\n",
       "        vertical-align: top;\n",
       "    }\n",
       "\n",
       "    .dataframe thead th {\n",
       "        text-align: right;\n",
       "    }\n",
       "</style>\n",
       "<table border=\"1\" class=\"dataframe\">\n",
       "  <thead>\n",
       "    <tr style=\"text-align: right;\">\n",
       "      <th></th>\n",
       "      <th>train_loss</th>\n",
       "      <th>train_accuracy</th>\n",
       "      <th>test_loss</th>\n",
       "      <th>test_accuracy</th>\n",
       "    </tr>\n",
       "  </thead>\n",
       "  <tbody>\n",
       "    <tr>\n",
       "      <th>0</th>\n",
       "      <td>1.350539</td>\n",
       "      <td>0.477254</td>\n",
       "      <td>1.301740</td>\n",
       "      <td>0.466316</td>\n",
       "    </tr>\n",
       "    <tr>\n",
       "      <th>1</th>\n",
       "      <td>1.237142</td>\n",
       "      <td>0.568649</td>\n",
       "      <td>1.174054</td>\n",
       "      <td>0.564342</td>\n",
       "    </tr>\n",
       "    <tr>\n",
       "      <th>2</th>\n",
       "      <td>1.098971</td>\n",
       "      <td>0.638860</td>\n",
       "      <td>1.032315</td>\n",
       "      <td>0.638553</td>\n",
       "    </tr>\n",
       "    <tr>\n",
       "      <th>3</th>\n",
       "      <td>0.960210</td>\n",
       "      <td>0.695956</td>\n",
       "      <td>0.902250</td>\n",
       "      <td>0.689211</td>\n",
       "    </tr>\n",
       "    <tr>\n",
       "      <th>4</th>\n",
       "      <td>0.841873</td>\n",
       "      <td>0.735860</td>\n",
       "      <td>0.798597</td>\n",
       "      <td>0.731053</td>\n",
       "    </tr>\n",
       "    <tr>\n",
       "      <th>5</th>\n",
       "      <td>0.748506</td>\n",
       "      <td>0.766316</td>\n",
       "      <td>0.718791</td>\n",
       "      <td>0.758026</td>\n",
       "    </tr>\n",
       "    <tr>\n",
       "      <th>6</th>\n",
       "      <td>0.676707</td>\n",
       "      <td>0.786833</td>\n",
       "      <td>0.658740</td>\n",
       "      <td>0.778684</td>\n",
       "    </tr>\n",
       "    <tr>\n",
       "      <th>7</th>\n",
       "      <td>0.621638</td>\n",
       "      <td>0.803868</td>\n",
       "      <td>0.613333</td>\n",
       "      <td>0.794342</td>\n",
       "    </tr>\n",
       "    <tr>\n",
       "      <th>8</th>\n",
       "      <td>0.578910</td>\n",
       "      <td>0.816754</td>\n",
       "      <td>0.577302</td>\n",
       "      <td>0.806579</td>\n",
       "    </tr>\n",
       "    <tr>\n",
       "      <th>9</th>\n",
       "      <td>0.545217</td>\n",
       "      <td>0.826553</td>\n",
       "      <td>0.549086</td>\n",
       "      <td>0.816053</td>\n",
       "    </tr>\n",
       "  </tbody>\n",
       "</table>\n",
       "</div>"
      ],
      "text/plain": [
       "   train_loss  train_accuracy  test_loss  test_accuracy\n",
       "0    1.350539        0.477254   1.301740       0.466316\n",
       "1    1.237142        0.568649   1.174054       0.564342\n",
       "2    1.098971        0.638860   1.032315       0.638553\n",
       "3    0.960210        0.695956   0.902250       0.689211\n",
       "4    0.841873        0.735860   0.798597       0.731053\n",
       "5    0.748506        0.766316   0.718791       0.758026\n",
       "6    0.676707        0.786833   0.658740       0.778684\n",
       "7    0.621638        0.803868   0.613333       0.794342\n",
       "8    0.578910        0.816754   0.577302       0.806579\n",
       "9    0.545217        0.826553   0.549086       0.816053"
      ]
     },
     "execution_count": 95,
     "metadata": {},
     "output_type": "execute_result"
    }
   ],
   "source": [
    "result = pd.DataFrame(training)\n",
    "result"
   ]
  },
  {
   "cell_type": "code",
   "execution_count": 98,
   "id": "67eb1a88-12ef-4626-8a29-d693f46b795f",
   "metadata": {},
   "outputs": [
    {
     "data": {
      "image/png": "[encoded data removed]",
      "text/plain": [
       "<Figure size 640x480 with 1 Axes>"
      ]
     },
     "metadata": {},
     "output_type": "display_data"
    },
    {
     "data": {
      "image/png": "[encoded data removed]",
      "text/plain": [
       "<Figure size 640x480 with 1 Axes>"
      ]
     },
     "metadata": {},
     "output_type": "display_data"
    }
   ],
   "source": [
    "import matplotlib.pyplot as plt\n",
    "fig,ax1 = plt.subplots()\n",
    "ax1.plot(result['train_loss'],label = 'Train Loss')\n",
    "ax1.plot(result['test_loss'],label = 'Test Loss')\n",
    "plt.legend()\n",
    "plt.tight_layout()\n",
    "\n",
    "fig,ax2 = plt.subplots()\n",
    "ax2.plot(result['train_accuracy'],label = 'Train accuracy')\n",
    "ax2.plot(result['test_accuracy'],label = 'Test accuracy')\n",
    "plt.legend()\n",
    "plt.tight_layout()"
   ]
  }
 ],
 "metadata": {
  "kernelspec": {
   "display_name": "Python 3 (ipykernel)",
   "language": "python",
   "name": "python3"
  },
  "language_info": {
   "codemirror_mode": {
    "name": "ipython",
    "version": 3
   },
   "file_extension": ".py",
   "mimetype": "text/x-python",
   "name": "python",
   "nbconvert_exporter": "python",
   "pygments_lexer": "ipython3",
   "version": "3.12.7"
  }
 },
 "nbformat": 4,
 "nbformat_minor": 5
}
