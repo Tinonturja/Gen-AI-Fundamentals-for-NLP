{
 "cells": [
  {
   "cell_type": "code",
   "execution_count": 5,
   "id": "5298969e-1c55-434d-ac64-b3b17d132c0f",
   "metadata": {},
   "outputs": [],
   "source": [
    "from torchtext.datasets import AG_NEWS\n"
   ]
  },
  {
   "cell_type": "markdown",
   "id": "25a0d282-32a0-41e7-9ea5-c26175c67bb3",
   "metadata": {},
   "source": [
    "## Token and Vocab"
   ]
  },
  {
   "cell_type": "code",
   "execution_count": 13,
   "id": "81dc6ff8-9a8a-466c-801a-ed8035431566",
   "metadata": {},
   "outputs": [
    {
     "name": "stdout",
     "output_type": "stream",
     "text": [
      "Length of the vocabulary: 95811\n",
      "Some of the tokenized words: ['zyprexa', 'zwiki', 'zurab', 'zuhua', 'zubrin', 'zovko', 'zotinca', 'zos', 'zoology', 'zoner']\n"
     ]
    }
   ],
   "source": [
    "\n",
    "# Have to make the dataset iterable\n",
    "train_iter = iter(AG_NEWS(split = 'train'))\n",
    "\n",
    "# Set the tokenizer and the vocab\n",
    "from torchtext.data.utils import get_tokenizer\n",
    "tokenizer = get_tokenizer('basic_english')\n",
    "\n",
    "# set the vocab\n",
    "from torchtext.vocab import build_vocab_from_iterator\n",
    "vocab = build_vocab_from_iterator([tokenizer(sample) for _,sample in train_iter],specials = [\"<unk>\"])\n",
    "vocab.set_default_index(vocab[\"<unk>\"])\n",
    "\n",
    "print(f\"Length of the vocabulary: {len(vocab)}\")\n",
    "print(f\"Some of the tokenized words: {list(vocab.get_stoi().keys())[:10]}\")"
   ]
  },
  {
   "cell_type": "markdown",
   "id": "c859bb37-c6df-4307-a416-d9fb390ba71e",
   "metadata": {},
   "source": [
    "## Create the dataset\n"
   ]
  },
  {
   "cell_type": "code",
   "execution_count": 14,
   "id": "6e7e33af-e66d-4fdc-b524-300f3ee5e0aa",
   "metadata": {},
   "outputs": [],
   "source": [
    "train_iter, test_iter = AG_NEWS()\n",
    "\n",
    "# Creating train and validation iterable dataset\n",
    "train_iter,test_iter = AG_NEWS()\n",
    "\n",
    "# Converting the iterable dataset into map style dataset\n",
    "from torchtext.data.functional import to_map_style_dataset\n",
    "train_dataset = to_map_style_dataset(train_iter)\n",
    "test_dataset = to_map_style_dataset(test_iter)\n",
    "\n",
    "# Splitting the train data into train and validation dataset, Where 95% contains train data and rest of them contain validation data\n",
    "train_size = int(len(train_dataset) * 0.95)\n",
    "\n",
    "# for randomly splitting we use the function random_split\n",
    "from torch.utils.data.dataset import random_split\n",
    "train_data,validation_data = random_split(train_dataset,[train_size,len(train_dataset) - train_size])"
   ]
  },
  {
   "cell_type": "code",
   "execution_count": 15,
   "id": "b3d63046-bfde-47f1-97f1-cdc5d77c21fe",
   "metadata": {},
   "outputs": [
    {
     "data": {
      "text/plain": [
       "(114000, 6000)"
      ]
     },
     "execution_count": 15,
     "metadata": {},
     "output_type": "execute_result"
    }
   ],
   "source": [
    "len(train_data),len(validation_data)"
   ]
  },
  {
   "cell_type": "markdown",
   "id": "1d9fea74-5dbe-4d89-b437-356d6a04feb1",
   "metadata": {},
   "source": [
    "## Create DataLoader"
   ]
  },
  {
   "cell_type": "code",
   "execution_count": 16,
   "id": "b37dfbad-38f5-419c-8a79-8e1719648e42",
   "metadata": {},
   "outputs": [],
   "source": [
    "# text_pipeline --> take the data and convert it into token and indices\n",
    "def text_pipeline(x):\n",
    "    return vocab(tokenizer(x))\n",
    "\n",
    "\n",
    "\n",
    "# label_pipeline --> create the pipeline qualified for torch input\n",
    "def label_pipeline(x):\n",
    "    return int(x)-1"
   ]
  },
  {
   "cell_type": "markdown",
   "id": "1278906a-52cb-4148-876f-d1d6740bbd26",
   "metadata": {},
   "source": [
    "### Collate function"
   ]
  },
  {
   "cell_type": "code",
   "execution_count": 18,
   "id": "9554f159-8f3b-4ec3-8152-b710dd0e86c7",
   "metadata": {},
   "outputs": [
    {
     "data": {
      "text/plain": [
       "'mps'"
      ]
     },
     "execution_count": 18,
     "metadata": {},
     "output_type": "execute_result"
    }
   ],
   "source": [
    "## Device agnostic code\n",
    "import torch\n",
    "device = 'mps' if torch.backends.mps.is_available() else 'cpu'\n",
    "device"
   ]
  },
  {
   "cell_type": "code",
   "execution_count": 19,
   "id": "9faace9e-9aba-49c8-8774-a758cb7f194f",
   "metadata": {},
   "outputs": [],
   "source": [
    "def collate_batch(batch):\n",
    "\n",
    "    label_list,text_list,offsets_list = [],[],[0]\n",
    "\n",
    "    for label,text in batch:\n",
    "        label_list.append(label_pipeline(label))\n",
    "        processed_text = torch.tensor(text_pipeline(text),dtype = torch.int64)\n",
    "        text_list.append(processed_text) # list of token_indices\n",
    "        offsets_list.append(processed_text.size[0])\n",
    "\n",
    "\n",
    "    label_list = torch.tensor(label_list,dtype = torch.int64)\n",
    "    offsets = torch.tensor(offsets_list[:-1]).cumsum(dim = 0)\n",
    "    text_list = torch.cat(text_list)\n",
    "\n",
    "\n",
    "    return label_list.to(device),text_list.to(device),offsets.to(device)\n",
    "        "
   ]
  },
  {
   "cell_type": "code",
   "execution_count": 20,
   "id": "481157e9-0bad-4c1d-b587-765c3f0c50a3",
   "metadata": {},
   "outputs": [
    {
     "ename": "ValueError",
     "evalue": "not enough values to unpack (expected 3, got 2)",
     "output_type": "error",
     "traceback": [
      "\u001b[0;31m---------------------------------------------------------------------------\u001b[0m",
      "\u001b[0;31mValueError\u001b[0m                                Traceback (most recent call last)",
      "Cell \u001b[0;32mIn[20], line 1\u001b[0m\n\u001b[0;32m----> 1\u001b[0m label,text,offset \u001b[38;5;241m=\u001b[39m \u001b[38;5;28mnext\u001b[39m(\u001b[38;5;28miter\u001b[39m(train_data))\n\u001b[1;32m      2\u001b[0m label,text,offset\n",
      "\u001b[0;31mValueError\u001b[0m: not enough values to unpack (expected 3, got 2)"
     ]
    }
   ],
   "source": [
    "label,text = nex"
   ]
  },
  {
   "cell_type": "code",
   "execution_count": null,
   "id": "15c89741-ac0d-4fb7-90db-ad16a5282322",
   "metadata": {},
   "outputs": [],
   "source": []
  }
 ],
 "metadata": {
  "kernelspec": {
   "display_name": "Python 3 (ipykernel)",
   "language": "python",
   "name": "python3"
  },
  "language_info": {
   "codemirror_mode": {
    "name": "ipython",
    "version": 3
   },
   "file_extension": ".py",
   "mimetype": "text/x-python",
   "name": "python",
   "nbconvert_exporter": "python",
   "pygments_lexer": "ipython3",
   "version": "3.12.7"
  }
 },
 "nbformat": 4,
 "nbformat_minor": 5
}
