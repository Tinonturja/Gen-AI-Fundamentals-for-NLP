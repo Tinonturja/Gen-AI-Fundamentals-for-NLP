{
 "cells": [
  {
   "cell_type": "code",
   "execution_count": 1,
   "id": "5298969e-1c55-434d-ac64-b3b17d132c0f",
   "metadata": {},
   "outputs": [],
   "source": [
    "from torchtext.datasets import AG_NEWS\n"
   ]
  },
  {
   "cell_type": "markdown",
   "id": "25a0d282-32a0-41e7-9ea5-c26175c67bb3",
   "metadata": {},
   "source": [
    "## Token and Vocab"
   ]
  },
  {
   "cell_type": "code",
   "execution_count": 2,
   "id": "81dc6ff8-9a8a-466c-801a-ed8035431566",
   "metadata": {},
   "outputs": [
    {
     "name": "stdout",
     "output_type": "stream",
     "text": [
      "Length of the vocabulary: 95811\n",
      "Some of the tokenized words: ['zyprexa', 'zwiki', 'zurab', 'zuhua', 'zubrin', 'zovko', 'zotinca', 'zos', 'zoology', 'zoner']\n"
     ]
    }
   ],
   "source": [
    "\n",
    "# Have to make the dataset iterable\n",
    "train_iter = iter(AG_NEWS(split = 'train'))\n",
    "\n",
    "# Set the tokenizer and the vocab\n",
    "from torchtext.data.utils import get_tokenizer\n",
    "tokenizer = get_tokenizer('basic_english')\n",
    "\n",
    "# set the vocab\n",
    "from torchtext.vocab import build_vocab_from_iterator\n",
    "vocab = build_vocab_from_iterator([tokenizer(sample) for _,sample in train_iter],specials = [\"<unk>\"])\n",
    "vocab.set_default_index(vocab[\"<unk>\"])\n",
    "\n",
    "print(f\"Length of the vocabulary: {len(vocab)}\")\n",
    "print(f\"Some of the tokenized words: {list(vocab.get_stoi().keys())[:10]}\")"
   ]
  },
  {
   "cell_type": "markdown",
   "id": "c859bb37-c6df-4307-a416-d9fb390ba71e",
   "metadata": {},
   "source": [
    "## Create the dataset\n"
   ]
  },
  {
   "cell_type": "code",
   "execution_count": 3,
   "id": "6e7e33af-e66d-4fdc-b524-300f3ee5e0aa",
   "metadata": {},
   "outputs": [],
   "source": [
    "train_iter, test_iter = AG_NEWS()\n",
    "\n",
    "# Creating train and validation iterable dataset\n",
    "train_iter,test_iter = AG_NEWS()\n",
    "\n",
    "# Converting the iterable dataset into map style dataset\n",
    "from torchtext.data.functional import to_map_style_dataset\n",
    "train_dataset = to_map_style_dataset(train_iter)\n",
    "test_dataset = to_map_style_dataset(test_iter)\n",
    "\n",
    "# Splitting the train data into train and validation dataset, Where 95% contains train data and rest of them contain validation data\n",
    "train_size = int(len(train_dataset) * 0.95)\n",
    "\n",
    "# for randomly splitting we use the function random_split\n",
    "from torch.utils.data.dataset import random_split\n",
    "train_data,validation_data = random_split(train_dataset,[train_size,len(train_dataset) - train_size])"
   ]
  },
  {
   "cell_type": "code",
   "execution_count": 4,
   "id": "b3d63046-bfde-47f1-97f1-cdc5d77c21fe",
   "metadata": {},
   "outputs": [
    {
     "data": {
      "text/plain": [
       "(114000, 6000)"
      ]
     },
     "execution_count": 4,
     "metadata": {},
     "output_type": "execute_result"
    }
   ],
   "source": [
    "len(train_data),len(validation_data)"
   ]
  },
  {
   "cell_type": "code",
   "execution_count": 5,
   "id": "481157e9-0bad-4c1d-b587-765c3f0c50a3",
   "metadata": {},
   "outputs": [],
   "source": [
    "label,text = next(iter(train_data))"
   ]
  },
  {
   "cell_type": "code",
   "execution_count": 6,
   "id": "15c89741-ac0d-4fb7-90db-ad16a5282322",
   "metadata": {},
   "outputs": [
    {
     "data": {
      "text/plain": [
       "(2,\n",
       " 'Petrova upends Henin-Hardenne Justine Henin-Hardenne looked up at the scoreboard that showed her opponent, Russian Nadia Petrova, leading by a set and a break. Then ')"
      ]
     },
     "execution_count": 6,
     "metadata": {},
     "output_type": "execute_result"
    }
   ],
   "source": [
    "label,text"
   ]
  },
  {
   "cell_type": "code",
   "execution_count": 25,
   "id": "709a4550-522d-4981-a430-aaa45c932e7f",
   "metadata": {},
   "outputs": [],
   "source": [
    "# AG_NEWS label\n",
    "ag_news_label = {1:'World',2:'Sports',3:'Business',4:'Sci/Tech'}"
   ]
  },
  {
   "cell_type": "markdown",
   "id": "1d9fea74-5dbe-4d89-b437-356d6a04feb1",
   "metadata": {},
   "source": [
    "## Create DataLoader"
   ]
  },
  {
   "cell_type": "code",
   "execution_count": 7,
   "id": "b37dfbad-38f5-419c-8a79-8e1719648e42",
   "metadata": {},
   "outputs": [],
   "source": [
    "# text_pipeline --> take the data and convert it into token and indices\n",
    "def text_pipeline(x):\n",
    "    return vocab(tokenizer(x))\n",
    "\n",
    "\n",
    "\n",
    "# label_pipeline --> create the pipeline qualified for torch input\n",
    "def label_pipeline(x):\n",
    "    return int(x)-1"
   ]
  },
  {
   "cell_type": "markdown",
   "id": "1278906a-52cb-4148-876f-d1d6740bbd26",
   "metadata": {},
   "source": [
    "### Collate function"
   ]
  },
  {
   "cell_type": "code",
   "execution_count": 8,
   "id": "9554f159-8f3b-4ec3-8152-b710dd0e86c7",
   "metadata": {},
   "outputs": [
    {
     "data": {
      "text/plain": [
       "'mps'"
      ]
     },
     "execution_count": 8,
     "metadata": {},
     "output_type": "execute_result"
    }
   ],
   "source": [
    "## Device agnostic code\n",
    "import torch\n",
    "device = 'mps' if torch.backends.mps.is_available() else 'cpu'\n",
    "device"
   ]
  },
  {
   "cell_type": "code",
   "execution_count": 17,
   "id": "9faace9e-9aba-49c8-8774-a758cb7f194f",
   "metadata": {},
   "outputs": [],
   "source": [
    "def collate_batch(batch):\n",
    "\n",
    "    label_list,text_list,offsets_list = [],[],[0]\n",
    "\n",
    "    for label,text in batch:\n",
    "        label_list.append(label_pipeline(label))\n",
    "        processed_text = torch.tensor(text_pipeline(text),dtype = torch.int64)\n",
    "        text_list.append(processed_text) # list of token_indices\n",
    "        offsets_list.append(processed_text.size(0))\n",
    "\n",
    "\n",
    "    label_list = torch.tensor(label_list,dtype = torch.int64)\n",
    "    offsets = torch.tensor(offsets_list[:-1]).cumsum(dim = 0)\n",
    "    text_list = torch.cat(text_list)\n",
    "\n",
    "\n",
    "    return label_list.to(device),text_list.to(device),offsets.to(device)\n",
    "        "
   ]
  },
  {
   "cell_type": "code",
   "execution_count": 18,
   "id": "dd542bc3-45c7-42e2-8fd6-a5fef46d0be6",
   "metadata": {},
   "outputs": [],
   "source": [
    "## create train/validation/test dataloader\n",
    "\n",
    "BATCH_SIZE = 64\n",
    "\n",
    "from torch.utils.data import DataLoader\n",
    "train_dataloader = DataLoader(dataset = train_data,\n",
    "                              batch_size=BATCH_SIZE,\n",
    "                              shuffle = True,\n",
    "                              collate_fn=collate_batch)\n",
    "\n",
    "validation_dataloader = DataLoader(dataset = validation_data,\n",
    "                              batch_size=BATCH_SIZE,shuffle = True,\n",
    "                              collate_fn=collate_batch)\n",
    "test_dataloader = DataLoader(dataset = test_dataset,\n",
    "                              batch_size=BATCH_SIZE,shuffle = False,\n",
    "                              collate_fn=collate_batch)\n"
   ]
  },
  {
   "cell_type": "code",
   "execution_count": 19,
   "id": "68848661-0bf4-4321-b8f5-0cc5bd9c205c",
   "metadata": {
    "scrolled": true
   },
   "outputs": [
    {
     "data": {
      "text/plain": [
       "(tensor([1, 0, 2, 2, 0, 3, 3, 2, 2, 1, 2, 0, 0, 2, 1, 3, 3, 3, 0, 1, 0, 3, 2, 1,\n",
       "         3, 3, 2, 3, 1, 0, 0, 2, 1, 2, 3, 1, 1, 1, 2, 2, 0, 2, 1, 3, 2, 1, 1, 0,\n",
       "         2, 1, 2, 0, 0, 2, 2, 1, 3, 0, 0, 1, 0, 3, 3, 0], device='mps:0'),\n",
       " tensor([1672, 1677,   12,  ...,  515,  299,    1], device='mps:0'),\n",
       " tensor([   0,   45,   80,  122,  154,  187,  238,  289,  328,  376,  395,  443,\n",
       "          484,  529,  563,  603,  655,  687,  729,  786,  834,  882,  919,  967,\n",
       "         1003, 1048, 1102, 1146, 1181, 1224, 1261, 1296, 1343, 1386, 1424, 1467,\n",
       "         1512, 1551, 1597, 1678, 1724, 1777, 1832, 1858, 1924, 2037, 2080, 2129,\n",
       "         2169, 2214, 2257, 2293, 2321, 2350, 2380, 2421, 2465, 2633, 2679, 2737,\n",
       "         2777, 2812, 2858, 2906], device='mps:0'))"
      ]
     },
     "execution_count": 19,
     "metadata": {},
     "output_type": "execute_result"
    }
   ],
   "source": [
    "label,text,offsets =  next(iter(validation_dataloader))\n",
    "label,text,offsets"
   ]
  },
  {
   "cell_type": "code",
   "execution_count": 21,
   "id": "068ece79-7987-4670-8f79-205367554b96",
   "metadata": {},
   "outputs": [
    {
     "data": {
      "text/plain": [
       "64"
      ]
     },
     "execution_count": 21,
     "metadata": {},
     "output_type": "execute_result"
    }
   ],
   "source": [
    "label.shape[0]"
   ]
  },
  {
   "cell_type": "markdown",
   "id": "7138bcf2-2b10-4e88-81ab-a5c42345a31a",
   "metadata": {},
   "source": [
    "## Create the MODEL"
   ]
  },
  {
   "cell_type": "code",
   "execution_count": 30,
   "id": "6e1ccf28-72e8-43d1-bd07-7bfd2c06058b",
   "metadata": {},
   "outputs": [],
   "source": [
    "import torch.nn as nn\n",
    "\n",
    "class TextClassificationModel(nn.Module):\n",
    "\n",
    "    def __init__(self,vocab_size,embedded_dim,num_class):\n",
    "\n",
    "        super().__init__()\n",
    "\n",
    "        self.embedding = nn.EmbeddingBag(vocab_size, embedded_dim,sparse = False)\n",
    "        self.fc = nn.Linear(embedded_dim, num_class)\n",
    "        self.init_weight()\n",
    "\n",
    "\n",
    "    def init_weight(self):\n",
    "        \"\"\"This custom initialization helps:\n",
    "        * Ensure stable and consistent training\n",
    "        * Avoid issues like vanishing/exploding gradients\n",
    "        * Improve training speed and convergence\n",
    "        \"\"\"\n",
    "        init_range = 0.5\n",
    "        self.embedded.weight.data.uniform_(-init_range,init_range) # Initializes the embedding weights uniformly --> each word in vocabulary gets a vector of embedded_dim dimensions with values in [-0.5,0.5]\n",
    "        self.fc.weight.data.uniform_(-init_range,init_range)\n",
    "        self.fc.bias.data.zero_()\n",
    "\n",
    "\n",
    "    def forward(self,text,offsets):\n",
    "        embedded_layer = self.embedding(text,offsets)\n",
    "        return self.fc(embedded_layer)"
   ]
  },
  {
   "cell_type": "code",
   "execution_count": 28,
   "id": "ef113687-dab7-4446-95d2-25b8ad961a67",
   "metadata": {},
   "outputs": [
    {
     "name": "stdout",
     "output_type": "stream",
     "text": [
      "Vocab Size: 95811\n",
      "Class number: 4\n"
     ]
    }
   ],
   "source": [
    "# Set up the parameters\n",
    "emb_dim =64\n",
    "vocab_size = len(vocab)\n",
    "print(f\"Vocab Size: {vocab_size}\")\n",
    "class_num = len(set([label for label,_ in train_data]))\n",
    "print(f\"Class number: {class_num}\")\n"
   ]
  },
  {
   "cell_type": "code",
   "execution_count": 29,
   "id": "82ec47c3-b9f2-4d33-a6c3-39f4ca9c5bd4",
   "metadata": {},
   "outputs": [
    {
     "ename": "TypeError",
     "evalue": "Linear.__init__() got an unexpected keyword argument 'sparse'",
     "output_type": "error",
     "traceback": [
      "\u001b[0;31m---------------------------------------------------------------------------\u001b[0m",
      "\u001b[0;31mTypeError\u001b[0m                                 Traceback (most recent call last)",
      "Cell \u001b[0;32mIn[29], line 2\u001b[0m\n\u001b[1;32m      1\u001b[0m \u001b[38;5;66;03m# Initializes the model\u001b[39;00m\n\u001b[0;32m----> 2\u001b[0m model_0 \u001b[38;5;241m=\u001b[39m TextClassificationModel(vocab_size \u001b[38;5;241m=\u001b[39m vocab_size,\n\u001b[1;32m      3\u001b[0m                                   embedded_dim\u001b[38;5;241m=\u001b[39memb_dim,\n\u001b[1;32m      4\u001b[0m                                   num_class\u001b[38;5;241m=\u001b[39mclass_num)\n\u001b[1;32m      6\u001b[0m model_0\n",
      "Cell \u001b[0;32mIn[23], line 10\u001b[0m, in \u001b[0;36mTextClassificationModel.__init__\u001b[0;34m(self, vocab_size, embedded_dim, num_class)\u001b[0m\n\u001b[1;32m      7\u001b[0m \u001b[38;5;28msuper\u001b[39m()\u001b[38;5;241m.\u001b[39m\u001b[38;5;21m__init__\u001b[39m()\n\u001b[1;32m      9\u001b[0m \u001b[38;5;28mself\u001b[39m\u001b[38;5;241m.\u001b[39membedding \u001b[38;5;241m=\u001b[39m nn\u001b[38;5;241m.\u001b[39mEmbeddingBag(vocab_size, embedded_dim)\n\u001b[0;32m---> 10\u001b[0m \u001b[38;5;28mself\u001b[39m\u001b[38;5;241m.\u001b[39mfc \u001b[38;5;241m=\u001b[39m nn\u001b[38;5;241m.\u001b[39mLinear(embedded_dim, num_class,sparse \u001b[38;5;241m=\u001b[39m \u001b[38;5;28;01mFalse\u001b[39;00m)\n\u001b[1;32m     11\u001b[0m \u001b[38;5;28mself\u001b[39m\u001b[38;5;241m.\u001b[39minit_weight()\n",
      "\u001b[0;31mTypeError\u001b[0m: Linear.__init__() got an unexpected keyword argument 'sparse'"
     ]
    }
   ],
   "source": [
    "# Initializes the model\n",
    "model_0 = TextClassificationModel(vocab_size = vocab_size,\n",
    "                                  embedded_dim=emb_dim,\n",
    "                                  num_class=class_num)\n",
    "\n",
    "model_0"
   ]
  },
  {
   "cell_type": "code",
   "execution_count": null,
   "id": "f7f34e1a-f18e-4f8f-8a41-a4883e6812aa",
   "metadata": {},
   "outputs": [],
   "source": []
  }
 ],
 "metadata": {
  "kernelspec": {
   "display_name": "Python 3 (ipykernel)",
   "language": "python",
   "name": "python3"
  },
  "language_info": {
   "codemirror_mode": {
    "name": "ipython",
    "version": 3
   },
   "file_extension": ".py",
   "mimetype": "text/x-python",
   "name": "python",
   "nbconvert_exporter": "python",
   "pygments_lexer": "ipython3",
   "version": "3.12.7"
  }
 },
 "nbformat": 4,
 "nbformat_minor": 5
}
