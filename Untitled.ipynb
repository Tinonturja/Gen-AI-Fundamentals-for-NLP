{
 "cells": [
  {
   "cell_type": "markdown",
   "id": "4364606b-091e-434f-bfab-694bedd59877",
   "metadata": {},
   "source": [
    "# STEPS:\n",
    "\n",
    "    1. Import Libraries\n",
    "    2. Take the corpus in account from where vocabulary will be created\n",
    "    3. Tokenize the word of the corpus\n",
    "        * Cleaning the token. (Removing any excess element from the word)\n",
    "        * \n",
    "\n",
    "    4. Create vocabulary from the tokenize words (take account of the indices of the word)\n",
    "    5. Create Embedding Layers from the vocab\n",
    "    6. "
   ]
  },
  {
   "cell_type": "markdown",
   "id": "f1e30eb6-1b69-4d1c-b2c8-25afb0ada6aa",
   "metadata": {},
   "source": [
    "## Import required Libraries"
   ]
  },
  {
   "cell_type": "code",
   "execution_count": 113,
   "id": "31b6ec4d-ca30-4f33-a6ea-44858302313f",
   "metadata": {},
   "outputs": [
    {
     "name": "stderr",
     "output_type": "stream",
     "text": [
      "[nltk_data] Downloading package punkt to\n",
      "[nltk_data]     /Users/tinonturjamajumder/nltk_data...\n",
      "[nltk_data]   Package punkt is already up-to-date!\n",
      "[nltk_data] Downloading package punkt_tab to\n",
      "[nltk_data]     /Users/tinonturjamajumder/nltk_data...\n",
      "[nltk_data]   Package punkt_tab is already up-to-date!\n"
     ]
    }
   ],
   "source": [
    "import time\n",
    "import re\n",
    "import string\n",
    "import random\n",
    "\n",
    "import numpy as np\n",
    "import pandas as pd\n",
    "import matplotlib.pyplot as plt\n",
    "\n",
    "import torch\n",
    "import torch.nn as nn\n",
    "import torch.nn.functional as F\n",
    "from torch.utils.data import Dataset,DataLoader\n",
    "\n",
    "import torchtext\n",
    "from torchtext.data.utils import get_tokenizer\n",
    "from torchtext.vocab import build_vocab_from_iterator\n",
    "\n",
    "import nltk\n",
    "from nltk import word_tokenize\n",
    "nltk.download('punkt')\n",
    "nltk.download('punkt_tab')\n",
    "\n",
    "\n",
    "import warnings\n",
    "def warn(*args,**kwargs):\n",
    "    pass\n",
    "warnings.warn  = warn"
   ]
  },
  {
   "cell_type": "code",
   "execution_count": 2,
   "id": "e34d3c36-5935-4e0a-b08f-149d081a1d40",
   "metadata": {},
   "outputs": [
    {
     "data": {
      "text/plain": [
       "device(type='cpu')"
      ]
     },
     "execution_count": 2,
     "metadata": {},
     "output_type": "execute_result"
    }
   ],
   "source": [
    "# Device agnostic code\n",
    "device = torch.device(\"cpu\")\n",
    "device"
   ]
  },
  {
   "cell_type": "markdown",
   "id": "0d5cc231-e740-4dff-974c-56d9348f5ac9",
   "metadata": {},
   "source": [
    "## Data Corpus"
   ]
  },
  {
   "cell_type": "code",
   "execution_count": 3,
   "id": "f0558191-21b0-46c0-a33f-f68f4ff759d1",
   "metadata": {},
   "outputs": [],
   "source": [
    "song= \"\"\"We are no strangers to love\n",
    "You know the rules and so do I\n",
    "A full commitments what Im thinking of\n",
    "You wouldnt get this from any other guy\n",
    "I just wanna tell you how Im feeling\n",
    "Gotta make you understand\n",
    "Never gonna give you up\n",
    "Never gonna let you down\n",
    "Never gonna run around and desert you\n",
    "Never gonna make you cry\n",
    "Never gonna say goodbye\n",
    "Never gonna tell a lie and hurt you\n",
    "Weve known each other for so long\n",
    "Your hearts been aching but youre too shy to say it\n",
    "Inside we both know whats been going on\n",
    "We know the game and were gonna play it\n",
    "And if you ask me how Im feeling\n",
    "Dont tell me youre too blind to see\n",
    "Never gonna give you up\n",
    "Never gonna let you down\n",
    "Never gonna run around and desert you\n",
    "Never gonna make you cry\n",
    "Never gonna say goodbye\n",
    "Never gonna tell a lie and hurt you\n",
    "Never gonna give you up\n",
    "Never gonna let you down\n",
    "Never gonna run around and desert you\n",
    "Never gonna make you cry\n",
    "Never gonna say goodbye\n",
    "Never gonna tell a lie and hurt you\n",
    "Weve known each other for so long\n",
    "Your hearts been aching but youre too shy to say it\n",
    "Inside we both know whats been going on\n",
    "We know the game and were gonna play it\n",
    "I just wanna tell you how Im feeling\n",
    "Gotta make you understand\n",
    "Never gonna give you up\n",
    "Never gonna let you down\n",
    "Never gonna run around and desert you\n",
    "Never gonna make you cry\n",
    "Never gonna say goodbye\n",
    "Never gonna tell a lie and hurt you\n",
    "Never gonna give you up\n",
    "Never gonna let you down\n",
    "Never gonna run around and desert you\n",
    "Never gonna make you cry\n",
    "Never gonna say goodbye\n",
    "Never gonna tell a lie and hurt you\n",
    "Never gonna give you up\n",
    "Never gonna let you down\n",
    "Never gonna run around and desert you\n",
    "Never gonna make you cry\n",
    "Never gonna say goodbye\n",
    "Never gonna tell a lie and hurt you\"\"\""
   ]
  },
  {
   "cell_type": "markdown",
   "id": "9671528a-39fa-4481-bd91-a10e67f5dbb7",
   "metadata": {},
   "source": [
    "## Helper function"
   ]
  },
  {
   "cell_type": "code",
   "execution_count": 4,
   "id": "5970fe68-8f3a-48ba-ab0b-29399cb36476",
   "metadata": {},
   "outputs": [],
   "source": [
    "def preprocess_string(s):\n",
    "\n",
    "    # remove anything but digit from string (digits,whitespaces and signs)\n",
    "    s = re.sub(r\"[^\\w\\s]\",'',s)\n",
    "\n",
    "    # remove one or more than whitespaces\n",
    "    s = re.sub(r\"\\s+\",'',s)\n",
    "\n",
    "    # remove digits from the token\n",
    "    s = re.sub(r\"\\d\", '', s)\n",
    "\n",
    "    return s"
   ]
  },
  {
   "cell_type": "code",
   "execution_count": 5,
   "id": "294d3b13-7adc-46a5-9048-8cfcade10d4f",
   "metadata": {},
   "outputs": [
    {
     "data": {
      "text/plain": [
       "'MnTr'"
      ]
     },
     "execution_count": 5,
     "metadata": {},
     "output_type": "execute_result"
    }
   ],
   "source": [
    "text = 'M@n06 T0r!'\n",
    "processed_text = preprocess_string(text)\n",
    "processed_text"
   ]
  },
  {
   "cell_type": "markdown",
   "id": "7db79c80-bf0d-4264-b444-a4206915f3dc",
   "metadata": {},
   "source": [
    "## Token Formation"
   ]
  },
  {
   "cell_type": "code",
   "execution_count": 6,
   "id": "fddf03b3-1599-466c-9932-858519996b62",
   "metadata": {},
   "outputs": [],
   "source": [
    "def clear_token(text,tokenizer):\n",
    "\n",
    "    token = tokenizer(text)\n",
    "\n",
    "    tokens = [preprocess_string(w).lower() for w in token if len(w) !=0 and w not in string.punctuation]\n",
    "\n",
    "    return tokens"
   ]
  },
  {
   "cell_type": "code",
   "execution_count": 7,
   "id": "609abd7f-dfcf-4902-ad46-b07516f9eef7",
   "metadata": {},
   "outputs": [
    {
     "data": {
      "text/plain": [
       "['we', 'are', 'no', 'strangers', 'to', 'love', 'you', 'know', 'the', 'rules']"
      ]
     },
     "execution_count": 7,
     "metadata": {},
     "output_type": "execute_result"
    }
   ],
   "source": [
    "# tokenizer instantiate\n",
    "tokenizer = get_tokenizer('basic_english')\n",
    "\n",
    "tokens = clear_token(song,tokenizer)\n",
    "tokens[:10]"
   ]
  },
  {
   "cell_type": "markdown",
   "id": "4b5db76e-9f8c-4226-b725-741f647acb95",
   "metadata": {},
   "source": [
    "## Vocabulary Formation"
   ]
  },
  {
   "cell_type": "code",
   "execution_count": 8,
   "id": "df79b17b-4c28-4039-ae7d-5639c05d59d8",
   "metadata": {},
   "outputs": [],
   "source": [
    "vocab = build_vocab_from_iterator(map(tokenizer,song.split()),specials = [\"<unk>\"])\n",
    "vocab.set_default_index(vocab[\"<unk>\"])                           "
   ]
  },
  {
   "cell_type": "code",
   "execution_count": 9,
   "id": "fcdc6a88-c64d-4b6b-9fc7-fbcdcfd8a0fd",
   "metadata": {
    "scrolled": true
   },
   "outputs": [
    {
     "data": {
      "text/plain": [
       "[21, 58, 70, 74, 25, 69, 2, 20, 31, 72]"
      ]
     },
     "execution_count": 9,
     "metadata": {},
     "output_type": "execute_result"
    }
   ],
   "source": [
    "vocab(tokens[0:10])"
   ]
  },
  {
   "cell_type": "code",
   "execution_count": 10,
   "id": "9babb98d-1738-4303-acbc-7510efd3b2ec",
   "metadata": {},
   "outputs": [],
   "source": [
    "index_to_token = vocab.get_itos()"
   ]
  },
  {
   "cell_type": "markdown",
   "id": "6e7e041c-0086-4060-a7db-a7b76e595864",
   "metadata": {},
   "source": [
    "## Embedding Layers"
   ]
  },
  {
   "cell_type": "code",
   "execution_count": 11,
   "id": "cdcfd3ca-d72a-4030-af63-5e3c1758c62d",
   "metadata": {},
   "outputs": [],
   "source": [
    "def genembedding(vocab,embedding_dim):\n",
    "\n",
    "\n",
    "    vocab_size = len(vocab)\n",
    "    embeddings = nn.Embedding(vocab_size,embedding_dim)\n",
    "\n",
    "    return embeddings    "
   ]
  },
  {
   "cell_type": "code",
   "execution_count": 12,
   "id": "c4a52694-2598-49df-9848-826bf9c0fd07",
   "metadata": {},
   "outputs": [
    {
     "data": {
      "text/plain": [
       "Embedding(79, 20)"
      ]
     },
     "execution_count": 12,
     "metadata": {},
     "output_type": "execute_result"
    }
   ],
   "source": [
    "embedding = genembedding(vocab,20)\n",
    "embedding"
   ]
  },
  {
   "cell_type": "code",
   "execution_count": 13,
   "id": "d036cd12-c1c4-479f-a1de-6b60114e589d",
   "metadata": {},
   "outputs": [
    {
     "data": {
      "text/plain": [
       "tensor([-0.7748, -0.0420, -0.0022, -0.8463,  1.2822, -0.6197, -0.8038, -0.8031,\n",
       "         1.1162, -0.4979,  1.0162,  0.1140, -0.5170, -0.3771,  0.9366,  0.2942,\n",
       "         0.1335, -1.0048, -0.7890,  0.4615], grad_fn=<EmbeddingBackward0>)"
      ]
     },
     "execution_count": 13,
     "metadata": {},
     "output_type": "execute_result"
    }
   ],
   "source": [
    "embedding(torch.tensor(78))"
   ]
  },
  {
   "cell_type": "markdown",
   "id": "c2020304-5549-4c86-8eee-8c2610767a8a",
   "metadata": {},
   "source": [
    "## Generating Context-Target pairs (n-grams)\n",
    "\n",
    "Context embedding values should be feed to the model and target word should be predicted by the model"
   ]
  },
  {
   "cell_type": "code",
   "execution_count": 14,
   "id": "905f7d10-a6b6-4115-9822-ed52f11e86da",
   "metadata": {},
   "outputs": [],
   "source": [
    "def genngrams(tokens,context_size):\n",
    "\n",
    "    context, target = [],[]\n",
    "    ngrams =[\n",
    "        (\n",
    "            [tokens[i-j-1] for j in range(context_size)],\n",
    "            tokens[i]\n",
    "        )\n",
    "        for i in range(context_size,len(tokens))  \n",
    "    ]\n",
    "        \n",
    "                      \n",
    "    return ngrams"
   ]
  },
  {
   "cell_type": "code",
   "execution_count": 15,
   "id": "a5fa6bb9-1b50-4e06-94de-e05be09bb0d8",
   "metadata": {},
   "outputs": [],
   "source": [
    "CONTEXT_SIZE = 2\n",
    "\n",
    "bigram_idx = genngrams(tokens,context_size = CONTEXT_SIZE)"
   ]
  },
  {
   "cell_type": "code",
   "execution_count": 16,
   "id": "f54b2d99-f4b2-48ee-a3a3-0de026e4bd3b",
   "metadata": {},
   "outputs": [
    {
     "data": {
      "text/plain": [
       "[(['are', 'we'], 'no'),\n",
       " (['no', 'are'], 'strangers'),\n",
       " (['strangers', 'no'], 'to'),\n",
       " (['to', 'strangers'], 'love'),\n",
       " (['love', 'to'], 'you'),\n",
       " (['you', 'love'], 'know'),\n",
       " (['know', 'you'], 'the'),\n",
       " (['the', 'know'], 'rules'),\n",
       " (['rules', 'the'], 'and'),\n",
       " (['and', 'rules'], 'so')]"
      ]
     },
     "execution_count": 16,
     "metadata": {},
     "output_type": "execute_result"
    }
   ],
   "source": [
    "bigram_idx[:10]"
   ]
  },
  {
   "cell_type": "markdown",
   "id": "6c98d282-d99e-4829-bdb1-35fca766408b",
   "metadata": {},
   "source": [
    "## Creating Embedding (first layer) of the model"
   ]
  },
  {
   "cell_type": "code",
   "execution_count": 17,
   "id": "f513908d-af1c-4333-ad90-2dca54c98ffe",
   "metadata": {},
   "outputs": [
    {
     "name": "stdout",
     "output_type": "stream",
     "text": [
      "['are', 'we'] no\n",
      "Context indices: [58, 21] Target indices: [70]\n"
     ]
    }
   ],
   "source": [
    "context,target = bigram_idx[0]\n",
    "\n",
    "# turn the context and target into indices\n",
    "print(context,target)\n",
    "print(f\"Context indices: {vocab(context)} Target indices: {vocab([target])}\")"
   ]
  },
  {
   "cell_type": "code",
   "execution_count": 18,
   "id": "d8421061-0129-45e4-96cc-5b035871ee7f",
   "metadata": {},
   "outputs": [
    {
     "data": {
      "text/plain": [
       "tensor([ 1.6258, -0.1898, -0.1148,  0.7887, -0.1309, -0.8208, -0.8326,  0.4208,\n",
       "         0.8360,  0.0723, -1.0057,  0.0691,  0.4685,  0.6351,  0.5072,  0.1315,\n",
       "         1.8798,  0.8992, -0.9187,  0.2206], grad_fn=<EmbeddingBackward0>)"
      ]
     },
     "execution_count": 18,
     "metadata": {},
     "output_type": "execute_result"
    }
   ],
   "source": [
    "# Create embeddings\n",
    "embedding(torch.tensor(58))"
   ]
  },
  {
   "cell_type": "code",
   "execution_count": 19,
   "id": "0096f6db-4fbd-498d-91f7-ca45fe5f70c7",
   "metadata": {},
   "outputs": [],
   "source": [
    "context_vocab = vocab(context)"
   ]
  },
  {
   "cell_type": "code",
   "execution_count": 20,
   "id": "2391a295-762e-4f24-9851-3c0ebe005315",
   "metadata": {},
   "outputs": [
    {
     "data": {
      "text/plain": [
       "tensor([[ 1.6258, -0.1898, -0.1148,  0.7887, -0.1309, -0.8208, -0.8326,  0.4208,\n",
       "          0.8360,  0.0723, -1.0057,  0.0691,  0.4685,  0.6351,  0.5072,  0.1315,\n",
       "          1.8798,  0.8992, -0.9187,  0.2206],\n",
       "        [-0.2098,  1.1176, -1.9505,  1.0751, -0.7525,  0.6912,  0.8734, -0.3961,\n",
       "          1.0350, -0.2557,  2.1782,  0.5553, -0.8472, -2.0583,  1.0261,  0.4524,\n",
       "          0.1340,  0.2791, -1.2697, -0.3752]], grad_fn=<EmbeddingBackward0>)"
      ]
     },
     "execution_count": 20,
     "metadata": {},
     "output_type": "execute_result"
    }
   ],
   "source": [
    "context_embedding = embedding(torch.tensor(vocab(context)))\n",
    "context_embedding"
   ]
  },
  {
   "cell_type": "code",
   "execution_count": 21,
   "id": "df9d26e4-02da-4c13-a2c8-28eb3702f366",
   "metadata": {},
   "outputs": [
    {
     "data": {
      "text/plain": [
       "torch.Size([2, 20])"
      ]
     },
     "execution_count": 21,
     "metadata": {},
     "output_type": "execute_result"
    }
   ],
   "source": [
    "context_embedding.shape"
   ]
  },
  {
   "cell_type": "markdown",
   "id": "97894e57-ba9f-4da3-9ac9-9bb5467700a6",
   "metadata": {},
   "source": [
    "Have to concat all the tensors and create a 1 dimentional array"
   ]
  },
  {
   "cell_type": "code",
   "execution_count": 22,
   "id": "36185acf-5885-4929-a86a-911a2b67a66a",
   "metadata": {},
   "outputs": [
    {
     "data": {
      "text/plain": [
       "torch.Size([1, 40])"
      ]
     },
     "execution_count": 22,
     "metadata": {},
     "output_type": "execute_result"
    }
   ],
   "source": [
    "context_embedding_reshape = context_embedding.reshape(1,-1)\n",
    "context_embedding_reshape.shape"
   ]
  },
  {
   "cell_type": "markdown",
   "id": "864ba7f2-68cc-453e-968e-594d4a30e1c6",
   "metadata": {},
   "source": [
    "## Creating Linear Layer (2nd Layer) of the model"
   ]
  },
  {
   "cell_type": "code",
   "execution_count": 23,
   "id": "9d093e15-a760-4aca-aee9-037cace00c30",
   "metadata": {},
   "outputs": [],
   "source": [
    "CONTEXT_SIZE = 2\n",
    "EMBEDDING_DIM = 20\n",
    "layer2 = nn.Linear(CONTEXT_SIZE*EMBEDDING_DIM,128)"
   ]
  },
  {
   "cell_type": "code",
   "execution_count": 24,
   "id": "949928c0-2c03-49c7-af2d-e01b6323c348",
   "metadata": {},
   "outputs": [
    {
     "data": {
      "text/plain": [
       "(tensor([[-0.6672, -1.3458,  0.1539,  1.0550,  0.1222, -0.2387, -0.5611, -0.8076,\n",
       "           0.3819,  0.6714,  0.1826, -0.7333, -0.2884, -0.4137, -0.1026, -0.6231,\n",
       "           0.6232, -0.3370,  0.2047, -0.7717,  0.3452, -0.0587,  0.4488,  0.3695,\n",
       "          -0.5927,  0.8237, -0.8581,  0.0213,  0.6405,  0.0624, -0.5209, -0.6249,\n",
       "           0.7516, -0.1868, -0.2064, -0.5800, -0.7828,  0.0937, -0.9263, -0.1683,\n",
       "          -0.3000, -0.8225, -0.5184, -0.7200, -0.0355,  0.0107, -0.1706, -0.3260,\n",
       "          -0.5931, -0.4128,  0.3822, -0.4904, -0.2101, -0.1564, -0.4619,  1.0603,\n",
       "          -0.0417,  0.2601, -0.0317, -0.3753,  0.3825, -0.1631, -0.1595,  0.9858,\n",
       "           0.3181, -0.2858, -0.2320,  0.3318,  0.3250,  0.2768,  0.0268,  0.7941,\n",
       "          -0.6007,  0.1744,  0.7465, -0.9729, -0.2928,  0.1104,  0.3998, -0.5695,\n",
       "          -0.4508, -0.6137, -0.0371, -0.9993, -0.0298,  0.6161,  0.2745,  0.3760,\n",
       "          -0.1906,  1.1099, -0.1755, -0.1167,  0.0924, -0.3316, -0.5019, -0.0659,\n",
       "           0.6749,  0.5566,  0.4157, -1.0529,  0.8988, -0.2254,  0.7619,  1.4035,\n",
       "           0.9899, -0.1305, -0.4912, -0.8885, -0.0254, -0.5975,  0.6793, -0.7932,\n",
       "           0.4240,  0.2509,  0.4256,  0.5266,  0.6462, -0.7395, -0.0782, -0.8826,\n",
       "           0.2237, -0.2783, -0.1956, -0.4174, -0.4718, -0.7026, -0.7250,  0.0146]],\n",
       "        grad_fn=<AddmmBackward0>),\n",
       " torch.Size([1, 128]))"
      ]
     },
     "execution_count": 24,
     "metadata": {},
     "output_type": "execute_result"
    }
   ],
   "source": [
    "out = layer2(context_embedding_reshape)\n",
    "out,out.shape"
   ]
  },
  {
   "cell_type": "markdown",
   "id": "ebed4731-4bae-4c58-84cb-5fc30371ea28",
   "metadata": {},
   "source": [
    "# Create Collate Function"
   ]
  },
  {
   "cell_type": "code",
   "execution_count": 77,
   "id": "2f83fa07-ab95-4e01-a5c3-cbe1e2eba43a",
   "metadata": {},
   "outputs": [],
   "source": [
    "\n",
    "CONTEXT_SIZE = 3\n",
    "def collate_fn(batch):\n",
    "    \"\"\"\n",
    "    according to the context size, we have to pass the tokens/indices to the model\n",
    "    Extracts individual tokens from batch\n",
    "    Parameters:\n",
    "        Full token batch: so token should be turned into indices\n",
    "        \n",
    "    Returns:\n",
    "        Tuple: Context Tensor, Target Tensor\n",
    "    \"\"\"\n",
    "    batch_size = len(batch)\n",
    "    context, target = [],[]\n",
    "\n",
    "    for i in range(CONTEXT_SIZE, batch_size):\n",
    "        target.append(vocab([batch[i]]))\n",
    "\n",
    "        context.append(vocab([batch[i-j-1] for j in range(CONTEXT_SIZE)]))\n",
    "\n",
    "    return torch.tensor(context).to(device),torch.tensor(target).to(device)\n",
    "    "
   ]
  },
  {
   "cell_type": "markdown",
   "id": "21e47402-596c-4930-ae98-7650e4504004",
   "metadata": {},
   "source": [
    "#### Maintain uniform length"
   ]
  },
  {
   "cell_type": "code",
   "execution_count": 78,
   "id": "ad41039f-d646-43a4-a944-c911f8d12ecd",
   "metadata": {},
   "outputs": [],
   "source": [
    "BATCH_SIZE = 10\n",
    "Padding = BATCH_SIZE -(len(tokens)%BATCH_SIZE)\n",
    "token_pads = tokens + tokens[0:Padding]"
   ]
  },
  {
   "cell_type": "code",
   "execution_count": 79,
   "id": "928a6dc8-04f2-4458-9dcf-54e482647faf",
   "metadata": {},
   "outputs": [
    {
     "data": {
      "text/plain": [
       "350"
      ]
     },
     "execution_count": 79,
     "metadata": {},
     "output_type": "execute_result"
    }
   ],
   "source": [
    "len(token_pads)"
   ]
  },
  {
   "cell_type": "markdown",
   "id": "5e73e0f0-2cbd-4f7c-a38e-81c4890dd233",
   "metadata": {},
   "source": [
    "## DataLoader Creation"
   ]
  },
  {
   "cell_type": "code",
   "execution_count": 80,
   "id": "009b6e21-5022-4d9b-953f-8ab4fde5b01c",
   "metadata": {},
   "outputs": [],
   "source": [
    "\n",
    "dataloader = DataLoader(dataset = token_pads,\n",
    "                       batch_size=BATCH_SIZE,\n",
    "                       shuffle = False,\n",
    "                       collate_fn=collate_fn)"
   ]
  },
  {
   "cell_type": "code",
   "execution_count": 81,
   "id": "10d59ce8-0b3e-4abf-ada9-a43ad215f6cc",
   "metadata": {},
   "outputs": [],
   "source": [
    "first_batch = next(iter(dataloader))"
   ]
  },
  {
   "cell_type": "code",
   "execution_count": 82,
   "id": "6e6614bc-5942-4881-a8ff-9dbf1d829b7a",
   "metadata": {},
   "outputs": [
    {
     "data": {
      "text/plain": [
       "(tensor([[70, 58, 21],\n",
       "         [74, 70, 58],\n",
       "         [25, 74, 70],\n",
       "         [69, 25, 74],\n",
       "         [ 2, 69, 25],\n",
       "         [20,  2, 69],\n",
       "         [31, 20,  2]]),\n",
       " tensor([[74],\n",
       "         [25],\n",
       "         [69],\n",
       "         [ 2],\n",
       "         [20],\n",
       "         [31],\n",
       "         [72]]))"
      ]
     },
     "execution_count": 82,
     "metadata": {},
     "output_type": "execute_result"
    }
   ],
   "source": [
    "first_batch"
   ]
  },
  {
   "cell_type": "markdown",
   "id": "96c0948e-03c4-4c37-9d56-051e34781154",
   "metadata": {},
   "source": [
    "## Creating Multi-Class Classification Model"
   ]
  },
  {
   "cell_type": "code",
   "execution_count": 83,
   "id": "4e394d7c-1ffd-413f-be34-0bef8c047d2d",
   "metadata": {},
   "outputs": [],
   "source": [
    "class TextMultiClassClassification(nn.Module):\n",
    "\n",
    "    def __init__(self,vocab_size,embedding_dim,context_size):\n",
    "        super().__init__()\n",
    "\n",
    "        self.vocab_size = vocab_size\n",
    "        self.embedding_dim = embedding_dim \n",
    "        self.context_size = context_size\n",
    "\n",
    "        # Embedding Layer: maps vocab size into embedding values (converts words into dense vector representation)\n",
    "        self.embedding_layer = nn.Embedding(vocab_size,embedding_dim)\n",
    "\n",
    "        # Layer 1: linear layer which takes embedding layer as input.\n",
    "        self.layer_1 = nn.Linear(context_size*embedding_dim,128)\n",
    "\n",
    "        # Layer 2: takes first linear layer as input and predicts the next word\n",
    "        self.layer_2 = nn.Linear(128,vocab_size)\n",
    "\n",
    "\n",
    "\n",
    "    def forward(self,inputs):\n",
    "        embedded_out = self.embedding_layer(inputs) # shpae --> (batch_size,context_size,embedding_dim)\n",
    "\n",
    "        # reshape the output\n",
    "        embedded_out_reshaped = embedded_out.reshape(-1,self.context_size*self.embedding_dim) # Shape --> (batch_size,context_size * embedding_dim)\n",
    "\n",
    "        # Pass through the linear layer\n",
    "        out = F.relu(self.layer_1(embedded_out_reshaped)) # shape --> (batch_size,128)\n",
    "\n",
    "        # Pass through the final linear layer\n",
    "        out = self.layer_2(out) # shape--> (128,len(vocab))\n",
    "\n",
    "        return out\n",
    "\n",
    "        "
   ]
  },
  {
   "cell_type": "code",
   "execution_count": 84,
   "id": "4920e308-5d68-4cc3-b395-69086c600cfd",
   "metadata": {},
   "outputs": [],
   "source": [
    "VOCAB_SIZE = len(vocab)\n",
    "EMBEDDING_DIM = 20\n",
    "CONTEXT_SIZE = 3\n",
    "model_0 = TextMultiClassClassification(vocab_size = VOCAB_SIZE,\n",
    "                                      embedding_dim = EMBEDDING_DIM,\n",
    "                                      context_size = CONTEXT_SIZE)"
   ]
  },
  {
   "cell_type": "code",
   "execution_count": 85,
   "id": "3ed84a1c-2c6c-4ab9-8ba5-401f98b7ce01",
   "metadata": {},
   "outputs": [],
   "source": [
    "context,target = next(iter(dataloader))"
   ]
  },
  {
   "cell_type": "code",
   "execution_count": 86,
   "id": "33594cd6-6fff-4e77-93f2-934fb5ec2bf8",
   "metadata": {},
   "outputs": [
    {
     "data": {
      "text/plain": [
       "torch.Size([7, 79])"
      ]
     },
     "execution_count": 86,
     "metadata": {},
     "output_type": "execute_result"
    }
   ],
   "source": [
    "output = model_0(context)\n",
    "output.shape"
   ]
  },
  {
   "cell_type": "code",
   "execution_count": 87,
   "id": "fcd3b4a8-b7a0-4adc-bc4a-85484489cbbb",
   "metadata": {},
   "outputs": [
    {
     "data": {
      "text/plain": [
       "(tensor([44, 67, 75, 75, 18, 78, 67]), tensor([74, 25, 69,  2, 20, 31, 72]))"
      ]
     },
     "execution_count": 87,
     "metadata": {},
     "output_type": "execute_result"
    }
   ],
   "source": [
    "pred_label = torch.argmax(output,dim =1)\n",
    "pred_label,target.squeeze()"
   ]
  },
  {
   "cell_type": "code",
   "execution_count": 88,
   "id": "1be451ed-e654-4e14-9b24-19052360e5c0",
   "metadata": {},
   "outputs": [
    {
     "data": {
      "text/plain": [
       "(['just', 'guy', 'thinking', 'thinking', 'run', 'wouldnt', 'guy'],\n",
       " ['strangers', 'to', 'love', 'you', 'know', 'the', 'rules'])"
      ]
     },
     "execution_count": 88,
     "metadata": {},
     "output_type": "execute_result"
    }
   ],
   "source": [
    "pred_words = [index_to_token[w.item()] for w in pred_label]\n",
    "actual_words = [index_to_token[w.item()] for w in target]\n",
    "pred_words,actual_words"
   ]
  },
  {
   "cell_type": "markdown",
   "id": "d34b2861-24d8-4816-9737-0528e8507157",
   "metadata": {},
   "source": [
    "## Writing a Song"
   ]
  },
  {
   "cell_type": "code",
   "execution_count": 89,
   "id": "c5da8dca-61e1-4f18-9b63-a2fde17c35f3",
   "metadata": {},
   "outputs": [],
   "source": [
    "def write_song(model,initial_context,number_of_words =100):\n",
    "    \"\"\"\n",
    "    Generates text using a trained n-gram language model.\n",
    "\n",
    "    Give an initial text ('my_song'), the function generates additional words by predicting the next word immediately based on the trained model.\n",
    "\n",
    "\n",
    "    Parameters:\n",
    "    model(nn.Module): The trained n-gram language model\n",
    "    my_song(str): The initial seed text to start generating text\n",
    "    number_of_words(int): The number of words generate\n",
    "\n",
    "    Returns:\n",
    "    str: The generated song lyrics as a string\n",
    "    \"\"\"\n",
    "\n",
    "\n",
    "    # get the mapping from index to word for decoding predictions\n",
    "    index_to_token = vocab.get_itos()\n",
    "\n",
    "    # Loop to generate the desired number of words\n",
    "    for i in range(number_of_words):\n",
    "\n",
    "        with torch.inference_mode():\n",
    "\n",
    "            # Prepare the context by extracting the last context_size words from tokens\n",
    "            context = torch.tensor(\n",
    "                vocab([tokens[i-j-1] for j in range(CONTEXT_SIZE)])\n",
    "            ).to(device)\n",
    "\n",
    "            # Predict the next word by selecting the word with the highest probability\n",
    "            word_idx = torch.argmax(model(context),dim = 1).to(device)\n",
    "\n",
    "            # Append the predicted word to the generated text\n",
    "            initial_context += \" \"+index_to_token[word_idx.detach().item()]\n",
    "\n",
    "    return initial_context\n",
    "\n",
    "\n",
    "        "
   ]
  },
  {
   "cell_type": "code",
   "execution_count": 90,
   "id": "c453bc93-276b-43bc-9fd4-9f6c2638dae8",
   "metadata": {},
   "outputs": [
    {
     "data": {
      "text/plain": [
       "'my song of guy youre just guy thinking thinking run wouldnt guy aching guy run play were both thinking wouldnt and wouldnt thinking wanna play and guy what thinking thinking both and thinking play give any blind and and dont thinking dont understand on thinking wouldnt me me and if wouldnt play wouldnt guy me wouldnt gonna me thinking and wouldnt me wouldnt me understand on do wouldnt and me me shy make play let guy thinking of guy so youre we and and thinking so give thinking wouldnt were blind what and thinking and wouldnt me play youre play thinking play'"
      ]
     },
     "execution_count": 90,
     "metadata": {},
     "output_type": "execute_result"
    }
   ],
   "source": [
    "generative_song = write_song(model_0,\"my song\")\n",
    "generative_song"
   ]
  },
  {
   "cell_type": "code",
   "execution_count": 91,
   "id": "62480c35-0f64-4fc0-b96e-3f42d20b277b",
   "metadata": {},
   "outputs": [],
   "source": [
    "def randompickline(song):\n",
    "    \"\"\"Selects a random line from the given song text\n",
    "    This function splits the song into separate lines and randomly picks one of them\"\"\"\n",
    "\n",
    "    # Split the song into individual lines\n",
    "    lines = song.split(\"\\n\")\n",
    "\n",
    "    # Randomly select a line and remove leading/trailing whitespace\n",
    "    selected_line = random.choice(lines).strip()\n",
    "\n",
    "    return selected_line\n",
    "    "
   ]
  },
  {
   "cell_type": "code",
   "execution_count": 92,
   "id": "647b038c-2822-4cf2-8e41-fba0d6e038bb",
   "metadata": {},
   "outputs": [
    {
     "name": "stdout",
     "output_type": "stream",
     "text": [
      "Never gonna run around and desert you of guy youre just guy thinking thinking run wouldnt guy aching guy run play were both thinking wouldnt and wouldnt thinking wanna play and guy what thinking thinking both and thinking play give any blind and and dont thinking dont understand on thinking wouldnt me me and if wouldnt play wouldnt guy me wouldnt gonna me thinking and wouldnt me wouldnt me understand on do wouldnt and me me shy make play let guy thinking of guy so youre we and and thinking so give thinking wouldnt were blind what and thinking and wouldnt me play youre play thinking play\n"
     ]
    }
   ],
   "source": [
    "# Randomly select a line\n",
    "selected_line = randompickline(song)\n",
    "\n",
    "# generate a new song starting with the selected line\n",
    "generated_song = write_song(model_0,selected_line)\n",
    "\n",
    "print(generated_song)"
   ]
  },
  {
   "cell_type": "markdown",
   "id": "12858fb2-0890-466c-9c44-65644e439432",
   "metadata": {},
   "source": [
    "## Training"
   ]
  },
  {
   "cell_type": "code",
   "execution_count": 93,
   "id": "8b7c8d52-3730-4700-800a-56ffc040bc59",
   "metadata": {},
   "outputs": [],
   "source": [
    "from tqdm.auto import tqdm"
   ]
  },
  {
   "cell_type": "code",
   "execution_count": 94,
   "id": "2c1dfe8e-53c4-462f-aace-c9f3522ac07c",
   "metadata": {},
   "outputs": [],
   "source": [
    "def train(dataloader, model,song,loss_fn,optimizer,number_of_epochs =100,show = 10):\n",
    "\n",
    "    MY_LOSS = []\n",
    "\n",
    "    for epoch in tqdm(range(number_of_epochs)):\n",
    "        total_loss = 0\n",
    "        my_song = \"\"\n",
    "\n",
    "        for context,target in dataloader:\n",
    "            model.zero_grad()\n",
    "            predicted = model(context)\n",
    "            loss = loss_fn(predicted,target.reshape(-1))\n",
    "            total_loss +=loss.item()\n",
    "\n",
    "            loss.backward()\n",
    "            optimizer.step()\n",
    "\n",
    "\n",
    "        # Display progress and generate song at specified intervals\n",
    "        if epoch % show ==0:\n",
    "            selected_line = randompickline(song)\n",
    "            my_song +=write_song(model,selected_line)\n",
    "\n",
    "            print(\"Generated Song:\\n\")\n",
    "            print(my_song)\n",
    "\n",
    "        MY_LOSS.append(total_loss/len(dataloader))\n",
    "\n",
    "    return MY_LOSS\n",
    "            \n",
    "    "
   ]
  },
  {
   "cell_type": "code",
   "execution_count": 95,
   "id": "90b1cee6-eeab-4381-9d30-3281f01c3839",
   "metadata": {},
   "outputs": [],
   "source": [
    "my_loss_list = []"
   ]
  },
  {
   "cell_type": "code",
   "execution_count": 104,
   "id": "f56ea635-28a1-4aa2-b781-335d56bc39dc",
   "metadata": {},
   "outputs": [],
   "source": [
    "# define the context size of for the n-gram model\n",
    "CONTEXT_SIZE = 2\n",
    "\n",
    "model_2 = TextMultiClassClassification(VOCAB_SIZE,EMBEDDING_DIM,CONTEXT_SIZE)\n",
    "\n",
    "# define the optimizer and loss function for training model\n",
    "optimizer = torch.optim.SGD(model_2.parameters(),lr = 0.01)\n",
    "loss_fn = torch.nn.CrossEntropyLoss()\n",
    "\n",
    "# Set up lr scheduler\n",
    "scheduler = torch.optim.lr_scheduler.StepLR(optimizer,step_size = 1.0,gamma = 0.1)"
   ]
  },
  {
   "cell_type": "code",
   "execution_count": 105,
   "id": "de2688f7-a761-4c5e-a664-e35c7f61fc52",
   "metadata": {},
   "outputs": [
    {
     "data": {
      "application/vnd.jupyter.widget-view+json": {
       "model_id": "278d764453c645ea8e059dbdf98b4893",
       "version_major": 2,
       "version_minor": 0
      },
      "text/plain": [
       "  0%|          | 0/100 [00:00<?, ?it/s]"
      ]
     },
     "metadata": {},
     "output_type": "display_data"
    },
    {
     "name": "stdout",
     "output_type": "stream",
     "text": [
      "Generated Song:\n",
      "\n",
      "Never gonna say goodbye you never you guy desert game you gonna desert each guy never you goodbye on tell desert goodbye guy play desert never gonna to were get wanna were get were youre get were wanna you tell never desert on get gonna to guy wanna never guy how you wanna you were to gonna wanna you were never guy guy were wanna you gonna to guy wanna you never gonna wanna never never so tell you you to play guy get how other tell never desert each desert you guy each desert gonna you never never get desert desert me each\n",
      "Generated Song:\n",
      "\n",
      "Inside we both know whats been going on you never you gonna never gonna you gonna never never gonna never you gonna never never never you you never you gonna gonna never never gonna never gonna gonna gonna never gonna gonna gonna you never never you gonna you gonna never gonna tell you gonna never gonna tell you gonna never gonna tell you and never you never gonna tell you gonna never gonna tell you never gonna tell you you and you you you never gonna gonna never gonna you never never never you gonna you you never gonna gonna you never never never you the never never\n",
      "Generated Song:\n",
      "\n",
      "Your hearts been aching but youre too shy to say it never never you gonna to you you never never game gonna never you gonna never never and you around and you never gonna never and gonna never and gonna gonna never gonna gonna a you never feeling you make you cry never gonna tell you up never gonna tell you down never gonna tell around and desert you never gonna tell you cry never gonna tell you never gonna tell you you and hurt you never never and gonna never never never never never never you a you you and gonna gonna you never never you know the been and\n",
      "Generated Song:\n",
      "\n",
      "Never gonna run around and desert you never never you gonna to hurt you never the game gonna never you and never never and you around hurt you never down never and gonna and and gonna gonna never gonna tell a you never feeling you make you cry never gonna tell you up never gonna tell you down never gonna tell around and desert you never gonna tell you cry never gonna tell goodbye never gonna tell a lie and hurt you never never and other never never never never never been you but youre too shy gonna and you never never you know the been and\n",
      "Generated Song:\n",
      "\n",
      "And if you ask me how Im feeling never never you strangers to love you never the game gonna never you i never lie and what im hurt you never down never and gonna and and gonna gonna down gonna tell you you never feeling gotta make you cry never gonna tell you up never gonna tell you down never gonna tell around and desert you never gonna tell you cry never gonna tell goodbye never gonna tell a lie and hurt you never never each other for never never never never been you but youre too shy gonna and you inside we you know whats been going\n",
      "Generated Song:\n",
      "\n",
      "Your hearts been aching but youre too shy to say it never never no strangers to love you never the game gonna never you i never lie and what im feeling it been down never and gonna and other gonna i down gonna tell you how im feeling gotta make you cry never gonna tell you up never gonna tell you down never gonna tell around and desert you never gonna tell you cry never gonna tell goodbye never gonna tell a lie and hurt you never never each other for so never your hearts been aching but youre too shy to and you inside we both know whats been going\n",
      "Generated Song:\n",
      "\n",
      "Never gonna say goodbye never never no strangers to love you never the game gonna you you i a lie commitments what im feeling gotta been down never and from any other youre i down gonna tell you how im feeling gotta make you cry never gonna tell you up never gonna tell you down never gonna tell around and desert you never gonna tell you cry never gonna tell goodbye never gonna tell a lie and hurt you never known each other for so never your hearts been aching but youre too shy to and it inside we both know whats been going\n",
      "Generated Song:\n",
      "\n",
      "Never gonna say goodbye never are no strangers to love you never the game gonna you you i a lie commitments what im thinking gotta i down never and from any other guy i down gonna tell you how im feeling gotta make you cry never gonna tell you up never gonna tell you down never gonna tell around and desert you never gonna tell you cry never gonna tell goodbye never gonna tell a lie and hurt you never known each other for so never your hearts been aching but youre too shy to and it inside we both know whats been going\n",
      "Generated Song:\n",
      "\n",
      "Never gonna make you cry never are no strangers to love you never the game gonna you do i a full commitments what im thinking gotta i down never and from any other guy i down gonna tell you how im feeling gotta make you cry never gonna tell you up never gonna tell you down never gonna tell around and desert you never gonna tell you cry never gonna tell goodbye never gonna tell a lie and hurt you never known each other for so never your hearts been aching but youre too shy to to it inside we both know whats been going\n",
      "Generated Song:\n",
      "\n",
      "Never gonna give you up never are no strangers to love you never the game gonna you do i a full commitments what im thinking gotta i down never this from any other guy i down gonna tell you how im feeling gotta make you cry never gonna tell you up never gonna tell you down never gonna tell around and desert you never gonna tell you cry never gonna tell goodbye never gonna tell a lie and hurt you never known each other for so do your hearts been aching but youre too shy to to it inside we both know whats been going\n"
     ]
    }
   ],
   "source": [
    "my_loss = train(dataloader,model_2,song,loss_fn,optimizer)"
   ]
  },
  {
   "cell_type": "markdown",
   "id": "c270f9a8-ce50-43be-86ed-b3bda7edc860",
   "metadata": {},
   "source": [
    "## SAVE THE MODEL"
   ]
  },
  {
   "cell_type": "code",
   "execution_count": 107,
   "id": "9a44d42f-1f24-4760-b894-f8b072a0453b",
   "metadata": {},
   "outputs": [],
   "source": [
    "save_path = '2gram.pth'\n",
    "torch.save(model_2.state_dict(),save_path)"
   ]
  },
  {
   "cell_type": "code",
   "execution_count": 108,
   "id": "f5be9aeb-529c-4030-a87c-190c974702b4",
   "metadata": {},
   "outputs": [],
   "source": [
    "my_loss_list.append(my_loss)"
   ]
  },
  {
   "cell_type": "code",
   "execution_count": 110,
   "id": "d9092f9e-e70c-4d1a-852c-d178dea2dbfe",
   "metadata": {},
   "outputs": [
    {
     "data": {
      "application/vnd.jupyter.widget-view+json": {
       "model_id": "1c5b4472906d4fb0a0b21ecf8949032f",
       "version_major": 2,
       "version_minor": 0
      },
      "text/plain": [
       "  0%|          | 0/100 [00:00<?, ?it/s]"
      ]
     },
     "metadata": {},
     "output_type": "display_data"
    },
    {
     "name": "stdout",
     "output_type": "stream",
     "text": [
      "Generated Song:\n",
      "\n",
      "Never gonna say goodbye make were never never gonna thinking you never gonna never you were around never never get you thinking known give <unk> it thinking gonna guy you guy make wanna get were around so thinking around feeling how gotta feeling you never gonna gonna too it the gonna gonna too you known gonna never were commitments never see were never gonna never you never gonna gonna never you never gonna you you make around im known make around never you wanna wanna a were thinking commitments <unk> were around get get so around weve whats gonna you never see were were\n",
      "Generated Song:\n",
      "\n",
      "Never gonna give you up never never gonna you you never you never never gonna you never you never gonna you you and you never tell make you gonna make you make never never never never make you you never gonna feeling gotta make you never gonna gonna let you up never gonna let you never never gonna let you and never you never gonna make you never never gonna say you never gonna tell a lie and hurt you never never gonna you you never you never gonna been you you never too you to never never never gonna you never never and you\n",
      "Generated Song:\n",
      "\n",
      "Never gonna let you down never known gonna you to love you never never gonna you were you never a you and and im feeling tell make you gonna make you make never you i never make you down how im feeling gotta make you never gonna gonna let you up never gonna let you down never gonna let around and desert you never gonna make you down never gonna say goodbye never gonna tell a lie and hurt you never known each other you never you make a been aching and never too shy to never never never a both never whats been going\n",
      "Generated Song:\n",
      "\n",
      "Never gonna say goodbye never known gonna run to love you never never gonna and were you never a lie and what im feeling gotta make you gonna make you lie other and i other make you to how im feeling gotta make you never gonna gonna let you up never gonna let you down never gonna run around and desert you never gonna make you down never gonna say goodbye never gonna tell a lie and hurt you never known each other for so you make a been aching but youre too shy to never never never we both know whats been going\n",
      "Generated Song:\n",
      "\n",
      "Never gonna tell a lie and hurt you never known gonna strangers to love you know never rules and were you never a full and what im feeling gotta make you gonna this from any other guy i other make and cry how im feeling gotta make you never never gonna let you up never gonna let you down never gonna run around and desert you never gonna make you cry never gonna say goodbye never gonna tell a lie and hurt you never known each other for so you make a been aching but youre too shy to see never never we both know whats been going\n",
      "Generated Song:\n",
      "\n",
      "Gotta make you understand never are no strangers to love you know the rules and were gonna never a full and what im thinking gotta make you gonna this from any other guy i other make you what how im feeling gotta make you never never gonna let you up never gonna let you down never gonna run around and desert you never gonna make you cry never gonna say goodbye never gonna tell a lie and hurt you never known each other for so you make a been aching but youre too shy to see never never we both know whats been going\n",
      "Generated Song:\n",
      "\n",
      "Never gonna let you down never are no strangers to love you know the rules and were gonna never a full commitments what im thinking gotta make you gonna this from any other guy i other make you what how im feeling gotta make you never never gonna let you up never gonna let you down never gonna run around and desert you never gonna make you cry never gonna say goodbye never gonna tell a lie and hurt you never known each other for so you make a been aching but youre too shy to see never never we both know whats been going\n",
      "Generated Song:\n",
      "\n",
      "Never gonna say goodbye never are no strangers to love you know the rules and were gonna never a full commitments what im thinking gotta make you gonna this from any other guy i other make you what how im feeling gotta make you never never gonna let you up never gonna let you down never gonna run around and desert you never gonna make you cry never gonna say goodbye never gonna tell a lie and hurt you never known each other for so you make a been aching but youre too shy to see never never we both know whats been going\n",
      "Generated Song:\n",
      "\n",
      "Your hearts been aching but youre too shy to say it never are no strangers to love you know the rules and were gonna never a full commitments what im thinking dont make you gonna this from any other guy i other make you what how im feeling gotta make you never never gonna let you up never gonna let you down never gonna run around and desert you never gonna make you cry never gonna say goodbye never gonna tell a lie and hurt you never known each other for so you make a been aching but youre too shy to see never never we both know whats been going\n",
      "Generated Song:\n",
      "\n",
      "We are no strangers to love never are no strangers to love you know the rules and were gonna never a full commitments what im thinking dont make you gonna this from any other guy i other make you what how im feeling gotta make you cry never gonna let you up never gonna let you down never gonna run around and desert you never gonna make you cry never gonna say goodbye never gonna tell a lie and hurt you never known each other for so you make a been aching but youre too shy to see never never we both know whats been going\n"
     ]
    }
   ],
   "source": [
    "CONTEXT_SIZE = 4\n",
    "model_4 = TextMultiClassClassification(len(vocab),\n",
    "                                      EMBEDDING_DIM,\n",
    "                                      CONTEXT_SIZE)\n",
    "\n",
    "optimizer = torch.optim.SGD(model_4.parameters(),\n",
    "                           lr = 0.01)\n",
    "\n",
    "loss_fn = torch.nn.CrossEntropyLoss()\n",
    "scheduler = torch.optim.lr_scheduler.StepLR(optimizer,1.0,gamma = 0.1)\n",
    "my_loss = train(dataloader,model_4,song,loss_fn,optimizer)\n",
    "\n",
    "save_path = '4gram.pth'\n",
    "torch.save(model_4.state_dict(),save_path)\n",
    "\n",
    "my_loss_list.append(my_loss)\n"
   ]
  },
  {
   "cell_type": "code",
   "execution_count": 111,
   "id": "e10291b0-ab20-47f7-afd5-50a9eca47fd1",
   "metadata": {},
   "outputs": [
    {
     "data": {
      "application/vnd.jupyter.widget-view+json": {
       "model_id": "c1f2eccd137d4c59a67aa7cd3fbb1450",
       "version_major": 2,
       "version_minor": 0
      },
      "text/plain": [
       "  0%|          | 0/100 [00:00<?, ?it/s]"
      ]
     },
     "metadata": {},
     "output_type": "display_data"
    },
    {
     "name": "stdout",
     "output_type": "stream",
     "text": [
      "Generated Song:\n",
      "\n",
      "Never gonna run around and desert you i you make you tell weve you full i and shy see known never <unk> and say you weve aching this commitments full each say you make known for i rules never you you you down make never make you you other make other you you you so commitments you you make you you you you this commitments never gonna shy you you each gonna you you you gonna known you you make you you i you make full you you hearts both hearts other you say make you shy other shy you make never you aching you you you\n",
      "Generated Song:\n",
      "\n",
      "Never gonna give you up never gonna make you you love you never the rules gonna tell you you it make you you never thinking never you never never make you gonna you guy i you make you you never you make never make you you never gonna make you down gonna gonna let you down never tell run around and never tell never gonna make you down never gonna say you you gonna tell a lie never hurt you never you make you for so never make you you you you you too shy to never you make never you you you been going\n",
      "Generated Song:\n",
      "\n",
      "Never gonna say goodbye never gonna make you for love you never the rules gonna tell you you it i let you im thinking never you never never make you gonna you guy i you make you you never you make never make you you never gonna say you down gonna tell let you down never tell run around and never tell never gonna make you up never gonna say you you gonna tell a lie never hurt you never you make other for so never make you you you you you too shy to i you i give you you you been going\n",
      "Generated Song:\n",
      "\n",
      "Dont tell me youre too blind to see never gonna make you for love you never the rules gonna tell you play it i let you im thinking never you never never make you gonna you guy i rules make you you never you i never make you you never gonna say you down gonna tell let you down never tell run around and never tell never gonna make you up never gonna say you and gonna tell a lie never hurt you never you make other for so never make you you you you you too shy to i you i give you down you been going\n",
      "Generated Song:\n",
      "\n",
      "Never gonna give you up never gonna make you for love you never the rules so tell you play it i let you im thinking never you never never make you gonna you guy i rules make you you never you i never make you you never gonna say you down gonna tell let you down never tell run around and never tell never gonna make you up never gonna say you and gonna tell a lie never hurt you never you make other for so never make you you you you you too shy to i you i give you down you been going\n",
      "Generated Song:\n",
      "\n",
      "Never gonna give you up never gonna make you for love you never the rules so tell you play it i let you im thinking never you never never make you gonna you guy i rules make you you never you i never make you you never gonna say you down gonna tell let you down never tell run around and never tell never gonna make you up never gonna say you and gonna tell a lie never hurt you never gonna make other for so never make you you you you you too shy to i you i give you down you been going\n",
      "Generated Song:\n",
      "\n",
      "Never gonna let you down never gonna make you for love you never the rules so tell you play it i let you im thinking never you never never make you gonna you guy i rules make you you never you i never make you you never gonna say you down gonna tell let you down never tell run around and never tell never gonna make you up never gonna say you and gonna tell a lie never hurt you never gonna make other for so never make you you you you you too shy to give you i give you down you been going\n",
      "Generated Song:\n",
      "\n",
      "Never gonna say goodbye never gonna make you for love you never the rules so tell you play it i let you im thinking never you never never make you gonna you guy i rules make you you never you i never make you you never gonna say you down gonna gonna let you down never tell run around and never tell never gonna make you up never gonna say you and gonna tell a lie never hurt you never gonna make other for so never make you you you you you too shy to give you i give you down you been going\n",
      "Generated Song:\n",
      "\n",
      "Weve known each other for so long never gonna make you for love you never the rules so tell you play it i let you im thinking never you never never make you gonna you guy i rules make you you never you i never make you you never gonna say you down gonna gonna let you down never tell run around and never tell never gonna make you up never gonna say you and gonna tell a lie never hurt you never gonna make other for so never make you you you you you too shy to give you i give you down you been going\n",
      "Generated Song:\n",
      "\n",
      "Never gonna say goodbye never gonna make you for love you never the rules so tell you play it i let you im thinking never you never never make you gonna you guy i rules make you you never you i never make you you never gonna say you down gonna gonna let you down never tell run around and never tell never gonna make you up never gonna say you and gonna tell a lie never hurt you never gonna make other for so never make you you you you you too shy to give you i give you down you been going\n"
     ]
    }
   ],
   "source": [
    "CONTEXT_SIZE = 8\n",
    "model_8 = TextMultiClassClassification(len(vocab),\n",
    "                                      EMBEDDING_DIM,\n",
    "                                      CONTEXT_SIZE)\n",
    "\n",
    "optimizer = torch.optim.SGD(model_8.parameters(),\n",
    "                           lr = 0.01)\n",
    "\n",
    "loss_fn = torch.nn.CrossEntropyLoss()\n",
    "scheduler = torch.optim.lr_scheduler.StepLR(optimizer,1.0,gamma = 0.1)\n",
    "my_loss = train(dataloader,model_8,song,loss_fn,optimizer)\n",
    "\n",
    "save_path = '8gram.pth'\n",
    "torch.save(model_8.state_dict(),save_path)\n",
    "\n",
    "my_loss_list.append(my_loss)\n"
   ]
  },
  {
   "cell_type": "code",
   "execution_count": 114,
   "id": "4f090e9a-2d95-486d-9265-809d87ed1c45",
   "metadata": {},
   "outputs": [
    {
     "data": {
      "image/png": "[encoded data removed]",
      "text/plain": [
       "<Figure size 640x480 with 1 Axes>"
      ]
     },
     "metadata": {},
     "output_type": "display_data"
    }
   ],
   "source": [
    "for (my_loss,model_name) in zip(my_loss_list,[\"2-gram\",\"4-gram\",\"8-gram\"]):\n",
    "    plt.plot(my_loss,label =f\"Cross-entropy Loss: {model_name}\")\n",
    "    plt.legend()"
   ]
  },
  {
   "cell_type": "markdown",
   "id": "44631796-9c52-4091-9e0a-430146b78209",
   "metadata": {},
   "source": [
    "## Perplexity"
   ]
  },
  {
   "cell_type": "markdown",
   "id": "4ab958a4-e046-42db-8615-a7f0ace5f14f",
   "metadata": {},
   "source": [
    "Perplexity is a measurement used to evaluate the effectiveness of language models or probability models. It provides an indication of how well a model predicts a sample of data or the likelihood of an unseen event. Perplexity is commonly used in natural language processing tasks, such as `machine translation`, `speech recognition`, and `language generation`.\n",
    "\n",
    "Perplexity is derived from the concept of cross-entropy loss, which measures the dissimilarity between predicted probabilities and actual probabilities. \n",
    "\n",
    "$$\\text{Cross-Entropy Loss} = -\\sum_{i=1}^{N} y_i \\ln(p_i)$$\n",
    "The cross-entropy loss is calculated by taking the negative sum of the products of the true labels $y_i$ and the logarithm of the predicted probabilities $p_i$ over $N$ classes.\n",
    "\n",
    "Taking the exponential of the mean cross-entropy loss gives us the perplexity value.\n",
    "\n",
    "$$\\text{Perplexity} = e^{\\frac{1}{N} \\text{Cross-Entropy Loss}}$$\n",
    "\n",
    "\n",
    "A *`lower perplexity`* value indicates that the model is more `confident` and `accurate` in predicting the data. Conversely, a `higher perplexity` suggests that the model is less certain and less accurate in its predictions.\n",
    "\n",
    "Perplexity can be seen as an estimate of the average number of choices the model has for the next word or event in a sequence. A lower perplexity means that the model is more certain about the next word, while a higher perplexity means that there are more possible choices.\n"
   ]
  },
  {
   "cell_type": "code",
   "execution_count": null,
   "id": "611598e1-4e8b-49e9-9d30-5684a58e1075",
   "metadata": {},
   "outputs": [],
   "source": [
    "for (my_loss,model_name) in zip(my_loss_list,[\"2-gram\",\"4-gram\",\"8-gram\"]):\n",
    "\n",
    "    # calculate perplexity\n",
    "\n"
   ]
  },
  {
   "cell_type": "code",
   "execution_count": null,
   "id": "0c8dd365-f2eb-4609-916a-174f1a8a608d",
   "metadata": {},
   "outputs": [],
   "source": []
  },
  {
   "cell_type": "code",
   "execution_count": null,
   "id": "55b1377d-5375-486d-86e2-c894077f5efa",
   "metadata": {},
   "outputs": [],
   "source": []
  },
  {
   "cell_type": "code",
   "execution_count": null,
   "id": "8cb7c49b-f01b-4c87-aae8-2686a1d5d5d4",
   "metadata": {},
   "outputs": [],
   "source": []
  }
 ],
 "metadata": {
  "kernelspec": {
   "display_name": "Python 3 (ipykernel)",
   "language": "python",
   "name": "python3"
  },
  "language_info": {
   "codemirror_mode": {
    "name": "ipython",
    "version": 3
   },
   "file_extension": ".py",
   "mimetype": "text/x-python",
   "name": "python",
   "nbconvert_exporter": "python",
   "pygments_lexer": "ipython3",
   "version": "3.12.7"
  }
 },
 "nbformat": 4,
 "nbformat_minor": 5
}
